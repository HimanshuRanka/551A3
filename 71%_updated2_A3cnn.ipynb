{
  "nbformat": 4,
  "nbformat_minor": 0,
  "metadata": {
    "kernelspec": {
      "display_name": "Python 3",
      "language": "python",
      "name": "python3"
    },
    "language_info": {
      "codemirror_mode": {
        "name": "ipython",
        "version": 2
      },
      "file_extension": ".py",
      "mimetype": "text/x-python",
      "name": "python",
      "nbconvert_exporter": "python",
      "pygments_lexer": "ipython2",
      "version": "2.7.6"
    },
    "colab": {
      "name": "Copy of updated2_A3cnn.ipynb",
      "provenance": [],
      "collapsed_sections": []
    },
    "accelerator": "GPU"
  },
  "cells": [
    {
      "cell_type": "markdown",
      "metadata": {
        "collapsed": true,
        "pycharm": {
          "name": "#%% md\n"
        },
        "id": "Ii6Z49SknI00"
      },
      "source": [
        "Build CNN:\n",
        "- import libraries\n",
        "- Load and normalize data\n",
        "- OHEC data\n",
        "- Split data into training and test\n",
        "- Build CNN class with layers\n",
        "- Evaluate model\n",
        "- Tune hyper params\n",
        "- Improve model and see what can be done better\n"
      ]
    },
    {
      "cell_type": "markdown",
      "metadata": {
        "collapsed": false,
        "id": "ZgdDEZgVnI1H"
      },
      "source": [
        "The basic steps to build an image classification model using a neural network are:\n",
        "\n",
        "- Flatten the input image dimensions to 1D (width pixels x height pixels)\n",
        "- Normalize the image pixel values (divide by 255)\n",
        "- One-Hot Encode the categorical column\n",
        "- Build a model architecture (Sequential) with Dense layers\n",
        "- Train the model and make predictions"
      ]
    },
    {
      "cell_type": "code",
      "metadata": {
        "pycharm": {
          "name": "#%%\n"
        },
        "id": "oQ25fdMRnI1L"
      },
      "source": [
        "import pickle as pkl\n",
        "import numpy as np\n",
        "import argparse\n",
        "\n",
        "import torch\n",
        "import torch.nn as nn\n",
        "import torch.nn.functional as F\n",
        "import torch.optim as optim\n",
        "from torchvision import datasets, transforms\n",
        "\n",
        "from torch.utils.data import Dataset\n",
        "from torch.utils.data import DataLoader\n",
        "device = torch.device(\"cuda:0\" if torch.cuda.is_available() else \"cpu\")"
      ],
      "execution_count": null,
      "outputs": []
    },
    {
      "cell_type": "code",
      "metadata": {
        "pycharm": {
          "name": "#%%\n"
        },
        "id": "J6gy1OCpnI1N"
      },
      "source": [
        "class ConfigureDataset(Dataset):\n",
        "    def __init__(self, X_Train, Y_Train, transform=None):\n",
        "        self.X_Train = X_Train\n",
        "        self.Y_Train = Y_Train\n",
        "        self.transform = transform\n",
        "\n",
        "    def __len__(self):\n",
        "        return len(self.X_Train)\n",
        "\n",
        "    def __getitem__(self, idx):\n",
        "        x = self.X_Train[idx]\n",
        "        y = self.Y_Train[idx]\n",
        "\n",
        "        if self.transform:\n",
        "            x = self.transform(x)\n",
        "\n",
        "        return x, y"
      ],
      "execution_count": null,
      "outputs": []
    },
    {
      "cell_type": "code",
      "metadata": {
        "pycharm": {
          "name": "#%%\n"
        },
        "id": "vOl4uawTnI1N"
      },
      "source": [
        "# converts labels from an array of 36 to a value between 0 nd 259\n",
        "def convert_label(label):\n",
        "    numl = label[:10]\n",
        "    letter = label[10:]\n",
        "    return 26 * np.where(numl == 1)[0][0] + np.where(letter == 1)[0][0]\n"
      ],
      "execution_count": null,
      "outputs": []
    },
    {
      "cell_type": "code",
      "metadata": {
        "pycharm": {
          "name": "#%%\n"
        },
        "colab": {
          "base_uri": "https://localhost:8080/"
        },
        "id": "x4bUlPDHnI1P",
        "outputId": "26955515-f6e6-4082-90ea-cd33f40212e9"
      },
      "source": [
        "file = open('.../data/images_l.pkl', 'rb')\n",
        "X_data = pkl.load(file)\n",
        "file.close()\n",
        "\n",
        "file = open('.../data/labels_l.pkl', 'rb')\n",
        "Y_data = pkl.load(file)\n",
        "file.close()\n",
        "\n",
        "Y_data_2 = []\n",
        "print(Y_data[:10])\n",
        "for idx in range(len(Y_data)):\n",
        "    Y_data_2.append(convert_label(Y_data[idx]))\n",
        "print(Y_data_2[:10])\n",
        "\n",
        "X_train = X_data[:25000]\n",
        "Y_train = Y_data_2[:25000]\n",
        "\n",
        "X_test = X_data[25000:]\n",
        "Y_test = Y_data_2[25000:]"
      ],
      "execution_count": null,
      "outputs": [
        {
          "output_type": "stream",
          "name": "stdout",
          "text": [
            "[[0. 0. 0. 0. 0. 0. 0. 0. 0. 1. 0. 0. 0. 0. 1. 0. 0. 0. 0. 0. 0. 0. 0. 0.\n",
            "  0. 0. 0. 0. 0. 0. 0. 0. 0. 0. 0. 0.]\n",
            " [0. 0. 0. 0. 0. 1. 0. 0. 0. 0. 0. 0. 0. 0. 0. 0. 0. 0. 0. 0. 0. 0. 0. 0.\n",
            "  0. 0. 1. 0. 0. 0. 0. 0. 0. 0. 0. 0.]\n",
            " [0. 0. 0. 0. 0. 0. 0. 0. 1. 0. 0. 0. 0. 0. 0. 0. 0. 0. 1. 0. 0. 0. 0. 0.\n",
            "  0. 0. 0. 0. 0. 0. 0. 0. 0. 0. 0. 0.]\n",
            " [0. 0. 0. 0. 0. 1. 0. 0. 0. 0. 0. 1. 0. 0. 0. 0. 0. 0. 0. 0. 0. 0. 0. 0.\n",
            "  0. 0. 0. 0. 0. 0. 0. 0. 0. 0. 0. 0.]\n",
            " [0. 0. 0. 0. 1. 0. 0. 0. 0. 0. 0. 0. 0. 0. 0. 0. 0. 0. 0. 0. 0. 0. 0. 0.\n",
            "  0. 0. 0. 0. 0. 0. 1. 0. 0. 0. 0. 0.]\n",
            " [0. 0. 0. 0. 0. 1. 0. 0. 0. 0. 0. 0. 0. 0. 0. 0. 0. 0. 0. 0. 0. 0. 1. 0.\n",
            "  0. 0. 0. 0. 0. 0. 0. 0. 0. 0. 0. 0.]\n",
            " [0. 0. 0. 0. 0. 0. 1. 0. 0. 0. 0. 0. 0. 0. 0. 0. 1. 0. 0. 0. 0. 0. 0. 0.\n",
            "  0. 0. 0. 0. 0. 0. 0. 0. 0. 0. 0. 0.]\n",
            " [0. 0. 0. 0. 0. 0. 0. 0. 1. 0. 0. 0. 0. 0. 0. 0. 0. 0. 0. 0. 0. 0. 0. 0.\n",
            "  0. 0. 0. 0. 0. 0. 1. 0. 0. 0. 0. 0.]\n",
            " [0. 0. 0. 0. 1. 0. 0. 0. 0. 0. 0. 0. 0. 0. 0. 0. 0. 0. 0. 0. 0. 0. 0. 0.\n",
            "  0. 0. 1. 0. 0. 0. 0. 0. 0. 0. 0. 0.]\n",
            " [1. 0. 0. 0. 0. 0. 0. 0. 0. 0. 0. 0. 1. 0. 0. 0. 0. 0. 0. 0. 0. 0. 0. 0.\n",
            "  0. 0. 0. 0. 0. 0. 0. 0. 0. 0. 0. 0.]]\n",
            "[238, 146, 216, 131, 124, 142, 162, 228, 120, 2]\n"
          ]
        }
      ]
    },
    {
      "cell_type": "code",
      "metadata": {
        "pycharm": {
          "name": "#%%\n"
        },
        "colab": {
          "base_uri": "https://localhost:8080/"
        },
        "id": "_7VHDUWgnI1Q",
        "outputId": "5f99e35b-a74a-4bd0-8a0a-4b7769af9ad8"
      },
      "source": [
        "print(type(X_train[0][0][0]))"
      ],
      "execution_count": null,
      "outputs": [
        {
          "output_type": "stream",
          "name": "stdout",
          "text": [
            "<class 'numpy.float64'>\n"
          ]
        }
      ]
    },
    {
      "cell_type": "code",
      "metadata": {
        "pycharm": {
          "name": "#%%\n"
        },
        "id": "c_19tcDhnI1R"
      },
      "source": [
        "train_set = ConfigureDataset(X_train, Y_train, transform=transforms.Compose([transforms.ToTensor(),transforms.RandomHorizontalFlip(), transforms.Normalize(12.2904, 48.2189)]))\n",
        "train_loader = DataLoader(train_set, batch_size=64, shuffle=True)"
      ],
      "execution_count": null,
      "outputs": []
    },
    {
      "cell_type": "code",
      "metadata": {
        "pycharm": {
          "name": "#%%\n"
        },
        "id": "mCMw7lzZnI1R"
      },
      "source": [
        "test_set = ConfigureDataset(X_test, Y_test, transform=transforms.Compose([transforms.ToTensor(), transforms.RandomHorizontalFlip(), transforms.Normalize(12.2904, 48.2189)]))\n",
        "test_loader = DataLoader(test_set, batch_size=64, shuffle=True)"
      ],
      "execution_count": null,
      "outputs": []
    },
    {
      "cell_type": "code",
      "metadata": {
        "pycharm": {
          "name": "#%%\n"
        },
        "id": "6eIKjjeknI1T"
      },
      "source": [
        "def get_mean_and_std(dataloader):\n",
        "    channels_sum, channels_squared_sum, num_batches = 0, 0, 0\n",
        "    for data, _ in dataloader:\n",
        "        # Mean over batch, height and width, but not over the channels\n",
        "        channels_sum += torch.mean(data, dim=[0,2,3])\n",
        "        channels_squared_sum += torch.mean(data**2, dim=[0,2,3])\n",
        "        num_batches += 1\n",
        "\n",
        "    mean = channels_sum / num_batches\n",
        "\n",
        "    # std = sqrt(E[X^2] - (E[X])^2)\n",
        "    std = (channels_squared_sum / num_batches - mean ** 2) ** 0.5\n",
        "\n",
        "    return mean, std"
      ],
      "execution_count": null,
      "outputs": []
    },
    {
      "cell_type": "code",
      "metadata": {
        "pycharm": {
          "name": "#%%\n"
        },
        "colab": {
          "base_uri": "https://localhost:8080/"
        },
        "id": "nv2Gg2UxnI1T",
        "outputId": "8591a05b-47dd-42a0-9561-2d5e1b41a674"
      },
      "source": [
        "print(next(iter(train_loader))[0][0].mean())"
      ],
      "execution_count": null,
      "outputs": [
        {
          "output_type": "stream",
          "name": "stdout",
          "text": [
            "tensor(-0.0381, dtype=torch.float64)\n"
          ]
        }
      ]
    },
    {
      "cell_type": "code",
      "metadata": {
        "pycharm": {
          "name": "#%%\n"
        },
        "colab": {
          "base_uri": "https://localhost:8080/"
        },
        "id": "jKnyOk5OnI1U",
        "outputId": "b5909781-619b-42eb-92ba-fb39f9179428"
      },
      "source": [
        "print(get_mean_and_std(train_loader))\n",
        "print(get_mean_and_std(test_loader))"
      ],
      "execution_count": null,
      "outputs": [
        {
          "output_type": "stream",
          "name": "stdout",
          "text": [
            "(tensor([1.4850e-05], dtype=torch.float64), tensor([1.0000], dtype=torch.float64))\n",
            "(tensor([0.0005], dtype=torch.float64), tensor([1.0017], dtype=torch.float64))\n"
          ]
        }
      ]
    },
    {
      "cell_type": "code",
      "metadata": {
        "pycharm": {
          "name": "#%%\n"
        },
        "colab": {
          "base_uri": "https://localhost:8080/",
          "height": 500
        },
        "id": "-KUnKGcAnI1V",
        "outputId": "6779e821-0236-4180-ff34-510d206f25db"
      },
      "source": [
        "import matplotlib.pyplot as plt\n",
        "import torchvision\n",
        "# functions to show an image\n",
        "def imshow(img):\n",
        "    npimg = img.numpy()\n",
        "    plt.imshow(np.transpose(npimg, (1, 2, 0)))\n",
        "    plt.show()\n",
        "\n",
        "# get some random training images\n",
        "dataiter = iter(train_loader)\n",
        "images, labels = next(dataiter)\n",
        "# print(images)\n",
        "# print(labels)\n",
        "# show images\n",
        "imshow(torchvision.utils.make_grid(images[:4]))\n",
        "# print labels\n",
        "print(' '.join('%5s' % convert_label(labels[j]) for j in range(8)))"
      ],
      "execution_count": null,
      "outputs": [
        {
          "output_type": "stream",
          "name": "stderr",
          "text": [
            "Clipping input data to the valid range for imshow with RGB data ([0..1] for floats or [0..255] for integers).\n"
          ]
        },
        {
          "output_type": "display_data",
          "data": {
            "image/png": "[encoded data removed]",
            "text/plain": [
              "<Figure size 432x288 with 1 Axes>"
            ]
          },
          "metadata": {
            "needs_background": "light"
          }
        },
        {
          "output_type": "error",
          "ename": "IndexError",
          "evalue": "ignored",
          "traceback": [
            "\u001b[0;31m---------------------------------------------------------------------------\u001b[0m",
            "\u001b[0;31mIndexError\u001b[0m                                Traceback (most recent call last)",
            "\u001b[0;32m<ipython-input-71-f90c9ab884bd>\u001b[0m in \u001b[0;36m<module>\u001b[0;34m()\u001b[0m\n\u001b[1;32m     15\u001b[0m \u001b[0mimshow\u001b[0m\u001b[0;34m(\u001b[0m\u001b[0mtorchvision\u001b[0m\u001b[0;34m.\u001b[0m\u001b[0mutils\u001b[0m\u001b[0;34m.\u001b[0m\u001b[0mmake_grid\u001b[0m\u001b[0;34m(\u001b[0m\u001b[0mimages\u001b[0m\u001b[0;34m[\u001b[0m\u001b[0;34m:\u001b[0m\u001b[0;36m4\u001b[0m\u001b[0;34m]\u001b[0m\u001b[0;34m)\u001b[0m\u001b[0;34m)\u001b[0m\u001b[0;34m\u001b[0m\u001b[0;34m\u001b[0m\u001b[0m\n\u001b[1;32m     16\u001b[0m \u001b[0;31m# print labels\u001b[0m\u001b[0;34m\u001b[0m\u001b[0;34m\u001b[0m\u001b[0;34m\u001b[0m\u001b[0m\n\u001b[0;32m---> 17\u001b[0;31m \u001b[0mprint\u001b[0m\u001b[0;34m(\u001b[0m\u001b[0;34m' '\u001b[0m\u001b[0;34m.\u001b[0m\u001b[0mjoin\u001b[0m\u001b[0;34m(\u001b[0m\u001b[0;34m'%5s'\u001b[0m \u001b[0;34m%\u001b[0m \u001b[0mconvert_label\u001b[0m\u001b[0;34m(\u001b[0m\u001b[0mlabels\u001b[0m\u001b[0;34m[\u001b[0m\u001b[0mj\u001b[0m\u001b[0;34m]\u001b[0m\u001b[0;34m)\u001b[0m \u001b[0;32mfor\u001b[0m \u001b[0mj\u001b[0m \u001b[0;32min\u001b[0m \u001b[0mrange\u001b[0m\u001b[0;34m(\u001b[0m\u001b[0;36m8\u001b[0m\u001b[0;34m)\u001b[0m\u001b[0;34m)\u001b[0m\u001b[0;34m)\u001b[0m\u001b[0;34m\u001b[0m\u001b[0;34m\u001b[0m\u001b[0m\n\u001b[0m",
            "\u001b[0;32m<ipython-input-71-f90c9ab884bd>\u001b[0m in \u001b[0;36m<genexpr>\u001b[0;34m(.0)\u001b[0m\n\u001b[1;32m     15\u001b[0m \u001b[0mimshow\u001b[0m\u001b[0;34m(\u001b[0m\u001b[0mtorchvision\u001b[0m\u001b[0;34m.\u001b[0m\u001b[0mutils\u001b[0m\u001b[0;34m.\u001b[0m\u001b[0mmake_grid\u001b[0m\u001b[0;34m(\u001b[0m\u001b[0mimages\u001b[0m\u001b[0;34m[\u001b[0m\u001b[0;34m:\u001b[0m\u001b[0;36m4\u001b[0m\u001b[0;34m]\u001b[0m\u001b[0;34m)\u001b[0m\u001b[0;34m)\u001b[0m\u001b[0;34m\u001b[0m\u001b[0;34m\u001b[0m\u001b[0m\n\u001b[1;32m     16\u001b[0m \u001b[0;31m# print labels\u001b[0m\u001b[0;34m\u001b[0m\u001b[0;34m\u001b[0m\u001b[0;34m\u001b[0m\u001b[0m\n\u001b[0;32m---> 17\u001b[0;31m \u001b[0mprint\u001b[0m\u001b[0;34m(\u001b[0m\u001b[0;34m' '\u001b[0m\u001b[0;34m.\u001b[0m\u001b[0mjoin\u001b[0m\u001b[0;34m(\u001b[0m\u001b[0;34m'%5s'\u001b[0m \u001b[0;34m%\u001b[0m \u001b[0mconvert_label\u001b[0m\u001b[0;34m(\u001b[0m\u001b[0mlabels\u001b[0m\u001b[0;34m[\u001b[0m\u001b[0mj\u001b[0m\u001b[0;34m]\u001b[0m\u001b[0;34m)\u001b[0m \u001b[0;32mfor\u001b[0m \u001b[0mj\u001b[0m \u001b[0;32min\u001b[0m \u001b[0mrange\u001b[0m\u001b[0;34m(\u001b[0m\u001b[0;36m8\u001b[0m\u001b[0;34m)\u001b[0m\u001b[0;34m)\u001b[0m\u001b[0;34m)\u001b[0m\u001b[0;34m\u001b[0m\u001b[0;34m\u001b[0m\u001b[0m\n\u001b[0m",
            "\u001b[0;32m<ipython-input-66-fcd19d0dc1be>\u001b[0m in \u001b[0;36mconvert_label\u001b[0;34m(label)\u001b[0m\n\u001b[1;32m      1\u001b[0m \u001b[0;31m# converts labels from an array of 36 to a value between 0 nd 259\u001b[0m\u001b[0;34m\u001b[0m\u001b[0;34m\u001b[0m\u001b[0;34m\u001b[0m\u001b[0m\n\u001b[1;32m      2\u001b[0m \u001b[0;32mdef\u001b[0m \u001b[0mconvert_label\u001b[0m\u001b[0;34m(\u001b[0m\u001b[0mlabel\u001b[0m\u001b[0;34m)\u001b[0m\u001b[0;34m:\u001b[0m\u001b[0;34m\u001b[0m\u001b[0;34m\u001b[0m\u001b[0m\n\u001b[0;32m----> 3\u001b[0;31m     \u001b[0mnuml\u001b[0m \u001b[0;34m=\u001b[0m \u001b[0mlabel\u001b[0m\u001b[0;34m[\u001b[0m\u001b[0;34m:\u001b[0m\u001b[0;36m10\u001b[0m\u001b[0;34m]\u001b[0m\u001b[0;34m\u001b[0m\u001b[0;34m\u001b[0m\u001b[0m\n\u001b[0m\u001b[1;32m      4\u001b[0m     \u001b[0mletter\u001b[0m \u001b[0;34m=\u001b[0m \u001b[0mlabel\u001b[0m\u001b[0;34m[\u001b[0m\u001b[0;36m10\u001b[0m\u001b[0;34m:\u001b[0m\u001b[0;34m]\u001b[0m\u001b[0;34m\u001b[0m\u001b[0;34m\u001b[0m\u001b[0m\n\u001b[1;32m      5\u001b[0m     \u001b[0;32mreturn\u001b[0m \u001b[0;36m26\u001b[0m \u001b[0;34m*\u001b[0m \u001b[0mnp\u001b[0m\u001b[0;34m.\u001b[0m\u001b[0mwhere\u001b[0m\u001b[0;34m(\u001b[0m\u001b[0mnuml\u001b[0m \u001b[0;34m==\u001b[0m \u001b[0;36m1\u001b[0m\u001b[0;34m)\u001b[0m\u001b[0;34m[\u001b[0m\u001b[0;36m0\u001b[0m\u001b[0;34m]\u001b[0m\u001b[0;34m[\u001b[0m\u001b[0;36m0\u001b[0m\u001b[0;34m]\u001b[0m \u001b[0;34m+\u001b[0m \u001b[0mnp\u001b[0m\u001b[0;34m.\u001b[0m\u001b[0mwhere\u001b[0m\u001b[0;34m(\u001b[0m\u001b[0mletter\u001b[0m \u001b[0;34m==\u001b[0m \u001b[0;36m1\u001b[0m\u001b[0;34m)\u001b[0m\u001b[0;34m[\u001b[0m\u001b[0;36m0\u001b[0m\u001b[0;34m]\u001b[0m\u001b[0;34m[\u001b[0m\u001b[0;36m0\u001b[0m\u001b[0;34m]\u001b[0m\u001b[0;34m\u001b[0m\u001b[0;34m\u001b[0m\u001b[0m\n",
            "\u001b[0;31mIndexError\u001b[0m: slice() cannot be applied to a 0-dim tensor."
          ]
        }
      ]
    },
    {
      "cell_type": "code",
      "metadata": {
        "pycharm": {
          "name": "#%%\n"
        },
        "id": "_lU_n4oOnI1W"
      },
      "source": [
        "# Define a convolutional neural network\n",
        "\n",
        "class Net(nn.Module):\n",
        "    def __init__(self):\n",
        "        super(Net, self).__init__()\n",
        "\n",
        "        self.conv_layer_1 = nn.Sequential(\n",
        "            nn.Conv2d(1, 128, 5),\n",
        "            nn.BatchNorm2d(128),\n",
        "            nn.ReLU(),\n",
        "            nn.MaxPool2d(2,2)\n",
        "        )\n",
        "\n",
        "        self.conv_layer_2 = nn.Sequential(\n",
        "            nn.Conv2d(128, 256, 3),\n",
        "            nn.BatchNorm2d(256),\n",
        "            nn.ReLU(),\n",
        "            nn.MaxPool2d(2,2)\n",
        "        )\n",
        "\n",
        "        self.conv_layer_3 = nn.Sequential(\n",
        "            nn.Conv2d(256, 256, 3),\n",
        "            nn.BatchNorm2d(256),\n",
        "            nn.ReLU(),\n",
        "            nn.MaxPool2d(2,2)\n",
        "        )\n",
        "\n",
        "        self.full_layer_1 = nn.Sequential(\n",
        "            nn.Linear(256 * 5 * 5, 1024),\n",
        "            nn.ReLU()\n",
        "        )\n",
        "\n",
        "        self.output_layer = nn.Sequential(\n",
        "            nn.Linear(1024, 260),\n",
        "        )\n",
        "\n",
        "    def forward(self, x):\n",
        "        x = self.conv_layer_1(x)\n",
        "        x = self.conv_layer_2(x)\n",
        "        x = self.conv_layer_3(x)\n",
        "        x = x.view(-1, 256 * 5 * 5)\n",
        "        x = self.full_layer_1(x)\n",
        "        x = self.output_layer(x)\n",
        "\n",
        "        return x\n",
        "\n",
        "net = Net().to(device)"
      ],
      "execution_count": null,
      "outputs": []
    },
    {
      "cell_type": "code",
      "metadata": {
        "pycharm": {
          "name": "#%%\n"
        },
        "id": "SU8UGjctnI1W"
      },
      "source": [
        "# Define a loss function and optimizer\n",
        "\n",
        "criterion = nn.CrossEntropyLoss()\n",
        "optimizer = optim.Adam(net.parameters(), lr=3e-4, weight_decay=1e-5)#lr=0.01,momentum=0.9,lr=3e-4\n"
      ],
      "execution_count": null,
      "outputs": []
    },
    {
      "cell_type": "code",
      "metadata": {
        "pycharm": {
          "name": "#%%\n"
        },
        "id": "uAkbTAMUnI1X"
      },
      "source": [
        "# test one set of images\n",
        "# images and lables from image print cell\n",
        "# zero the parameter gradients\n",
        "optimizer.zero_grad()\n",
        "\n",
        "images, labels = images.cuda(), labels.cuda()#when using gpu uncomment\n",
        "\n",
        "# forward + backward + optimize\n",
        "outputs = net(images.float())\n",
        "loss = criterion(outputs, labels)\n",
        "loss.backward()\n",
        "optimizer.step()\n",
        "\n",
        "_, predicted = torch.max(outputs.data, 1)\n"
      ],
      "execution_count": null,
      "outputs": []
    },
    {
      "cell_type": "code",
      "metadata": {
        "pycharm": {
          "name": "#%%\n"
        },
        "colab": {
          "base_uri": "https://localhost:8080/"
        },
        "id": "6F66JWE6nI1b",
        "outputId": "d24ec1fb-bfad-4b47-aa14-550b49081db5"
      },
      "source": [
        "print(loss)\n",
        "print(labels)\n",
        "print(predicted)\n",
        "print((predicted == labels).sum().item())"
      ],
      "execution_count": null,
      "outputs": [
        {
          "output_type": "stream",
          "name": "stdout",
          "text": [
            "tensor(5.5793, device='cuda:0', grad_fn=<NllLossBackward0>)\n",
            "tensor([127, 217, 211,  72,  14,  39, 200,  64,  46, 233,   2,  82, 152, 207,\n",
            "         13, 128,   5, 126, 215,  81,  83,   6,  77,  92,  89, 197, 238, 105,\n",
            "         83,  93, 255,  50, 204, 118,  48,  11,  86, 233, 124, 184, 197, 204,\n",
            "        253, 135, 150,   7,  47, 146, 204, 107, 166, 167, 213, 221, 174, 198,\n",
            "         52, 168, 226,  49, 220,   7, 216, 206], device='cuda:0')\n",
            "tensor([106, 194, 206,  48,  48,  48,  48, 194, 173, 179,  51, 173,  48, 156,\n",
            "         49,  48,  48, 173,  55,  48, 173, 173,  48,  48, 173,  48, 173, 173,\n",
            "        173,  51,  48,  48, 173,  48, 194,  48, 194,  48, 173, 173,  48, 246,\n",
            "        231,  48,  48,  49, 173, 173, 173,  48, 173, 173,  15, 173, 173, 194,\n",
            "        156,  48, 248, 173, 179, 173, 173,  11], device='cuda:0')\n",
            "0\n"
          ]
        }
      ]
    },
    {
      "cell_type": "code",
      "metadata": {
        "pycharm": {
          "name": "#%%\n"
        },
        "colab": {
          "base_uri": "https://localhost:8080/"
        },
        "id": "9NIg3Im4nI1c",
        "outputId": "7a422c9b-7fda-4906-e195-c2dcace2fdc3"
      },
      "source": [
        "# Train the network\n",
        "\n",
        "for epoch in range(20):  # loop over the dataset multiple times\n",
        "    net = net.float()\n",
        "    running_loss = 0.0\n",
        "    for i, data in enumerate(train_loader, 0):\n",
        "        # get the inputs; data is a list of [inputs, labels]\n",
        "        inputs, labels = data\n",
        "        # zero the parameter gradients\n",
        "        optimizer.zero_grad()\n",
        "\n",
        "        inputs, labels = inputs.cuda(), labels.cuda()#when using gpu uncomment\n",
        "\n",
        "        # forward + backward + optimize\n",
        "        outputs = net(inputs.float())\n",
        "        loss = criterion(outputs, labels)\n",
        "        loss.backward()\n",
        "        optimizer.step()\n",
        "\n",
        "        # print statistics\n",
        "        running_loss += loss.item()\n",
        "        if i % 50 == 49:    # print every 50 mini-batches\n",
        "            print('[%d, %5d] loss: %.3f' %\n",
        "                  (epoch + 1, i + 1, running_loss / 50))\n",
        "            running_loss = 0.0\n",
        "\n",
        "print('Finished Training')"
      ],
      "execution_count": null,
      "outputs": [
        {
          "output_type": "stream",
          "name": "stdout",
          "text": [
            "[1,    50] loss: 5.553\n",
            "[1,   100] loss: 4.949\n",
            "[1,   150] loss: 4.429\n",
            "[1,   200] loss: 4.134\n",
            "[1,   250] loss: 4.015\n",
            "[1,   300] loss: 3.920\n",
            "[1,   350] loss: 3.846\n",
            "[2,    50] loss: 3.702\n",
            "[2,   100] loss: 3.670\n",
            "[2,   150] loss: 3.552\n",
            "[2,   200] loss: 3.528\n",
            "[2,   250] loss: 3.451\n",
            "[2,   300] loss: 3.357\n",
            "[2,   350] loss: 3.279\n",
            "[3,    50] loss: 3.170\n",
            "[3,   100] loss: 3.112\n",
            "[3,   150] loss: 3.054\n",
            "[3,   200] loss: 2.978\n",
            "[3,   250] loss: 2.928\n",
            "[3,   300] loss: 2.892\n",
            "[3,   350] loss: 2.815\n",
            "[4,    50] loss: 2.605\n",
            "[4,   100] loss: 2.578\n",
            "[4,   150] loss: 2.476\n",
            "[4,   200] loss: 2.447\n",
            "[4,   250] loss: 2.380\n",
            "[4,   300] loss: 2.328\n",
            "[4,   350] loss: 2.336\n",
            "[5,    50] loss: 2.142\n",
            "[5,   100] loss: 2.062\n",
            "[5,   150] loss: 2.039\n",
            "[5,   200] loss: 1.997\n",
            "[5,   250] loss: 1.982\n",
            "[5,   300] loss: 1.950\n",
            "[5,   350] loss: 1.934\n",
            "[6,    50] loss: 1.740\n",
            "[6,   100] loss: 1.683\n",
            "[6,   150] loss: 1.705\n",
            "[6,   200] loss: 1.621\n",
            "[6,   250] loss: 1.667\n",
            "[6,   300] loss: 1.644\n",
            "[6,   350] loss: 1.579\n",
            "[7,    50] loss: 1.468\n",
            "[7,   100] loss: 1.401\n",
            "[7,   150] loss: 1.448\n",
            "[7,   200] loss: 1.370\n",
            "[7,   250] loss: 1.414\n",
            "[7,   300] loss: 1.381\n",
            "[7,   350] loss: 1.327\n",
            "[8,    50] loss: 1.228\n",
            "[8,   100] loss: 1.221\n",
            "[8,   150] loss: 1.224\n",
            "[8,   200] loss: 1.194\n",
            "[8,   250] loss: 1.173\n",
            "[8,   300] loss: 1.183\n",
            "[8,   350] loss: 1.259\n",
            "[9,    50] loss: 1.050\n",
            "[9,   100] loss: 1.034\n",
            "[9,   150] loss: 1.046\n",
            "[9,   200] loss: 1.047\n",
            "[9,   250] loss: 1.103\n",
            "[9,   300] loss: 1.061\n",
            "[9,   350] loss: 1.033\n",
            "[10,    50] loss: 0.908\n",
            "[10,   100] loss: 0.966\n",
            "[10,   150] loss: 0.950\n",
            "[10,   200] loss: 0.972\n",
            "[10,   250] loss: 0.897\n",
            "[10,   300] loss: 0.959\n",
            "[10,   350] loss: 0.909\n",
            "[11,    50] loss: 0.817\n",
            "[11,   100] loss: 0.832\n",
            "[11,   150] loss: 0.827\n",
            "[11,   200] loss: 0.815\n",
            "[11,   250] loss: 0.844\n",
            "[11,   300] loss: 0.819\n",
            "[11,   350] loss: 0.850\n",
            "[12,    50] loss: 0.741\n",
            "[12,   100] loss: 0.705\n",
            "[12,   150] loss: 0.705\n",
            "[12,   200] loss: 0.759\n",
            "[12,   250] loss: 0.772\n",
            "[12,   300] loss: 0.766\n",
            "[12,   350] loss: 0.722\n",
            "[13,    50] loss: 0.618\n",
            "[13,   100] loss: 0.637\n",
            "[13,   150] loss: 0.638\n",
            "[13,   200] loss: 0.670\n",
            "[13,   250] loss: 0.672\n",
            "[13,   300] loss: 0.684\n",
            "[13,   350] loss: 0.697\n",
            "[14,    50] loss: 0.602\n",
            "[14,   100] loss: 0.551\n",
            "[14,   150] loss: 0.578\n",
            "[14,   200] loss: 0.613\n",
            "[14,   250] loss: 0.639\n",
            "[14,   300] loss: 0.599\n",
            "[14,   350] loss: 0.617\n",
            "[15,    50] loss: 0.504\n",
            "[15,   100] loss: 0.464\n",
            "[15,   150] loss: 0.523\n",
            "[15,   200] loss: 0.506\n",
            "[15,   250] loss: 0.519\n",
            "[15,   300] loss: 0.553\n",
            "[15,   350] loss: 0.567\n",
            "[16,    50] loss: 0.459\n",
            "[16,   100] loss: 0.469\n",
            "[16,   150] loss: 0.515\n",
            "[16,   200] loss: 0.467\n",
            "[16,   250] loss: 0.441\n",
            "[16,   300] loss: 0.492\n",
            "[16,   350] loss: 0.493\n",
            "[17,    50] loss: 0.395\n",
            "[17,   100] loss: 0.391\n",
            "[17,   150] loss: 0.401\n",
            "[17,   200] loss: 0.443\n",
            "[17,   250] loss: 0.442\n",
            "[17,   300] loss: 0.446\n",
            "[17,   350] loss: 0.459\n",
            "[18,    50] loss: 0.368\n",
            "[18,   100] loss: 0.342\n",
            "[18,   150] loss: 0.384\n",
            "[18,   200] loss: 0.378\n",
            "[18,   250] loss: 0.380\n",
            "[18,   300] loss: 0.379\n",
            "[18,   350] loss: 0.385\n",
            "[19,    50] loss: 0.345\n",
            "[19,   100] loss: 0.337\n",
            "[19,   150] loss: 0.304\n",
            "[19,   200] loss: 0.363\n",
            "[19,   250] loss: 0.353\n",
            "[19,   300] loss: 0.345\n",
            "[19,   350] loss: 0.356\n",
            "[20,    50] loss: 0.274\n",
            "[20,   100] loss: 0.269\n",
            "[20,   150] loss: 0.299\n",
            "[20,   200] loss: 0.314\n",
            "[20,   250] loss: 0.324\n",
            "[20,   300] loss: 0.313\n",
            "[20,   350] loss: 0.365\n",
            "Finished Training\n"
          ]
        }
      ]
    },
    {
      "cell_type": "code",
      "metadata": {
        "pycharm": {
          "name": "#%%\n"
        },
        "id": "-DSIqGVrnI1d"
      },
      "source": [
        "print(list(net.parameters()))\n"
      ],
      "execution_count": null,
      "outputs": []
    },
    {
      "cell_type": "code",
      "metadata": {
        "pycharm": {
          "name": "#%%\n"
        },
        "id": "jTrTkOlAnI1e",
        "colab": {
          "base_uri": "https://localhost:8080/"
        },
        "outputId": "09cfb4f8-983d-4c9c-92ff-afab3535a6ac"
      },
      "source": [
        "testiter = iter(test_loader)\n",
        "images, labels = next(testiter)\n",
        "\n",
        "images, labels = images.cuda(), labels.cuda()#uncomment when using gpu\n",
        "\n",
        "outputs = net(images.float())\n",
        "print(outputs.data)\n",
        "_, predicted = torch.max(outputs.data, 1)\n",
        "print(predicted)\n",
        "print(labels)"
      ],
      "execution_count": null,
      "outputs": [
        {
          "output_type": "stream",
          "name": "stdout",
          "text": [
            "tensor([[-29.0355, -56.3075, -14.9616,  ..., -33.2334, -15.2489, -27.8930],\n",
            "        [-19.8796, -44.1998, -22.8922,  ..., -21.3754,  -8.7808, -44.5773],\n",
            "        [-18.5265, -40.8488, -46.1105,  ..., -12.4878, -20.9681, -23.5038],\n",
            "        ...,\n",
            "        [-19.9764, -21.9750, -36.7555,  ..., -30.3611, -32.4980, -16.7026],\n",
            "        [-22.5621, -33.8767, -22.5670,  ..., -25.4388, -19.6531, -37.1469],\n",
            "        [-40.3006, -20.4145, -42.1556,  ..., -41.4918, -49.7571, -32.4384]],\n",
            "       device='cuda:0')\n",
            "tensor([217, 180, 238, 190,  55,  67,  69, 204,  17, 189, 233, 250, 228,  17,\n",
            "         76,  34, 164, 168,   5,  16, 122, 180,  76, 213, 113, 114,  17, 184,\n",
            "        212, 113, 102, 212,  74, 240, 153, 238,  87,  45, 221, 246,  32,  77,\n",
            "         78, 212,  12, 154,  67, 239, 170, 151, 133, 192, 160,   4,  60, 241,\n",
            "         36,  82, 117, 184, 125, 172, 151, 167], device='cuda:0')\n",
            "tensor([217, 228, 108, 190,  55, 233,  69, 204,  17, 189, 233, 250, 228,  17,\n",
            "         46,  34, 164, 168,   5, 235, 122, 180, 122, 213, 113, 109,  17, 184,\n",
            "        212, 117, 102, 212,  74, 240, 153, 238, 138,  49, 221, 246, 158,  77,\n",
            "         78, 212,  12, 154, 246, 239, 209, 151, 133, 192, 160,  55,  60, 241,\n",
            "         36, 155, 117, 184,  74, 212, 151,  72], device='cuda:0')\n"
          ]
        }
      ]
    },
    {
      "cell_type": "code",
      "metadata": {
        "pycharm": {
          "name": "#%%\n"
        },
        "id": "P-eJCTxYnI1e"
      },
      "source": [
        "# Let's see how the network performs on the whole test dataset\n",
        "\n",
        "correct = 0\n",
        "total = 0\n",
        "with torch.no_grad():\n",
        "    for data in test_loader:\n",
        "        images, labels = data\n",
        "\n",
        "        images, labels = images.cuda(), labels.cuda() #uncomment when using gpu\n",
        "\n",
        "        outputs = net(images.float())\n",
        "        # _, predicted = torch.topk(outputs, 2)\n",
        "        _, predicted = torch.max(outputs.data, 1)\n",
        "\n",
        "        total += len(labels)\n",
        "        correct += (predicted == labels).sum().item()\n"
      ],
      "execution_count": null,
      "outputs": []
    },
    {
      "cell_type": "code",
      "metadata": {
        "pycharm": {
          "name": "#%%\n"
        },
        "id": "R3XFRpCbnI1f",
        "colab": {
          "base_uri": "https://localhost:8080/"
        },
        "outputId": "7444ff5a-eaf3-4a97-85a9-1c4299324d1b"
      },
      "source": [
        "print(outputs.shape)\n",
        "print(labels.shape)\n",
        "print(total)\n",
        "print(correct)\n",
        "\n",
        "print(torch.max(outputs.data, 1))\n",
        "print(labels)\n",
        "\n",
        "print('Accuracy of the network on the 5000 test images: %d %%' % (\n",
        "    100 * correct / total))"
      ],
      "execution_count": null,
      "outputs": [
        {
          "output_type": "stream",
          "name": "stdout",
          "text": [
            "torch.Size([8, 260])\n",
            "torch.Size([8])\n",
            "5000\n",
            "3602\n",
            "torch.return_types.max(\n",
            "values=tensor([  4.2869, -10.1858,  -0.7809,  -3.6001,   4.8804,  -4.0561,  -6.6670,\n",
            "         -0.4196], device='cuda:0'),\n",
            "indices=tensor([174, 100,  49, 136,  49, 257, 107, 122], device='cuda:0'))\n",
            "tensor([174, 100,  49, 135,  49, 257, 107, 122], device='cuda:0')\n",
            "Accuracy of the network on the 5000 test images: 72 %\n"
          ]
        }
      ]
    }
  ]
}
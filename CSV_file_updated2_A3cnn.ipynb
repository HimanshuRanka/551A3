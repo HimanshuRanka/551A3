{
  "nbformat": 4,
  "nbformat_minor": 0,
  "metadata": {
    "kernelspec": {
      "display_name": "Python 3",
      "language": "python",
      "name": "python3"
    },
    "language_info": {
      "codemirror_mode": {
        "name": "ipython",
        "version": 2
      },
      "file_extension": ".py",
      "mimetype": "text/x-python",
      "name": "python",
      "nbconvert_exporter": "python",
      "pygments_lexer": "ipython2",
      "version": "2.7.6"
    },
    "colab": {
      "name": "Copy of updated2_A3cnn.ipynb",
      "provenance": [],
      "collapsed_sections": []
    },
    "accelerator": "GPU"
  },
  "cells": [
    {
      "cell_type": "markdown",
      "metadata": {
        "collapsed": true,
        "pycharm": {
          "name": "#%% md\n"
        },
        "id": "Ii6Z49SknI00"
      },
      "source": [
        "Build CNN:\n",
        "- import libraries\n",
        "- Load and normalize data\n",
        "- OHEC data\n",
        "- Split data into training and test\n",
        "- Build CNN class with layers\n",
        "- Evaluate model\n",
        "- Tune hyper params\n",
        "- Improve model and see what can be done better\n"
      ]
    },
    {
      "cell_type": "markdown",
      "metadata": {
        "collapsed": false,
        "id": "ZgdDEZgVnI1H"
      },
      "source": [
        "The basic steps to build an image classification model using a neural network are:\n",
        "\n",
        "- Flatten the input image dimensions to 1D (width pixels x height pixels)\n",
        "- Normalize the image pixel values (divide by 255)\n",
        "- One-Hot Encode the categorical column\n",
        "- Build a model architecture (Sequential) with Dense layers\n",
        "- Train the model and make predictions"
      ]
    },
    {
      "cell_type": "code",
      "metadata": {
        "pycharm": {
          "name": "#%%\n"
        },
        "id": "oQ25fdMRnI1L"
      },
      "source": [
        "import pickle as pkl\n",
        "import numpy as np\n",
        "import argparse\n",
        "\n",
        "import torch\n",
        "import torch.nn as nn\n",
        "import torch.nn.functional as F\n",
        "import torch.optim as optim\n",
        "from torchvision import datasets, transforms\n",
        "\n",
        "from torch.utils.data import Dataset\n",
        "from torch.utils.data import DataLoader\n",
        "device = torch.device(\"cuda:0\" if torch.cuda.is_available() else \"cpu\")"
      ],
      "execution_count": null,
      "outputs": []
    },
    {
      "cell_type": "code",
      "metadata": {
        "pycharm": {
          "name": "#%%\n"
        },
        "id": "J6gy1OCpnI1N"
      },
      "source": [
        "class ConfigureDataset(Dataset):\n",
        "    def __init__(self, X_Train, Y_Train, transform=None):\n",
        "        self.X_Train = X_Train\n",
        "        self.Y_Train = Y_Train\n",
        "        self.transform = transform\n",
        "\n",
        "    def __len__(self):\n",
        "        return len(self.X_Train)\n",
        "\n",
        "    def __getitem__(self, idx):\n",
        "        x = self.X_Train[idx]\n",
        "        y = self.Y_Train[idx]\n",
        "\n",
        "        if self.transform:\n",
        "            x = self.transform(x)\n",
        "\n",
        "        return x, y"
      ],
      "execution_count": null,
      "outputs": []
    },
    {
      "cell_type": "code",
      "metadata": {
        "pycharm": {
          "name": "#%%\n"
        },
        "id": "vOl4uawTnI1N"
      },
      "source": [
        "# converts labels from an array of 36 to a value between 0 nd 259\n",
        "def convert_label(label):\n",
        "    numl = label[:10]\n",
        "    letter = label[10:]\n",
        "    return 26 * np.where(numl == 1)[0][0] + np.where(letter == 1)[0][0]\n"
      ],
      "execution_count": null,
      "outputs": []
    },
    {
      "cell_type": "code",
      "metadata": {
        "pycharm": {
          "name": "#%%\n"
        },
        "colab": {
          "base_uri": "https://localhost:8080/"
        },
        "id": "x4bUlPDHnI1P",
        "outputId": "dd653bcf-0327-45ef-e45d-e535f91dfb44"
      },
      "source": [
        "file = open('../images_l.pkl', 'rb')\n",
        "X_data = pkl.load(file)\n",
        "file.close()\n",
        "\n",
        "file = open('../labels_l.pkl', 'rb')\n",
        "Y_data = pkl.load(file)\n",
        "file.close()\n",
        "\n",
        "file = open('../images_test.pkl', 'rb')\n",
        "X_test_data = pkl.load(file)\n",
        "file.close()\n",
        "\n",
        "Y_data_2 = []\n",
        "print(Y_data[:10])\n",
        "for idx in range(len(Y_data)):\n",
        "    Y_data_2.append(convert_label(Y_data[idx]))\n",
        "print(Y_data_2[:10])\n",
        "\n",
        "X_train = X_data[:25000]\n",
        "Y_train = Y_data_2[:25000]\n",
        "\n",
        "X_test = X_data[25000:]\n",
        "Y_test = Y_data_2[25000:]"
      ],
      "execution_count": null,
      "outputs": [
        {
          "output_type": "stream",
          "name": "stdout",
          "text": [
            "[[0. 0. 0. 0. 0. 0. 0. 0. 0. 1. 0. 0. 0. 0. 1. 0. 0. 0. 0. 0. 0. 0. 0. 0.\n",
            "  0. 0. 0. 0. 0. 0. 0. 0. 0. 0. 0. 0.]\n",
            " [0. 0. 0. 0. 0. 1. 0. 0. 0. 0. 0. 0. 0. 0. 0. 0. 0. 0. 0. 0. 0. 0. 0. 0.\n",
            "  0. 0. 1. 0. 0. 0. 0. 0. 0. 0. 0. 0.]\n",
            " [0. 0. 0. 0. 0. 0. 0. 0. 1. 0. 0. 0. 0. 0. 0. 0. 0. 0. 1. 0. 0. 0. 0. 0.\n",
            "  0. 0. 0. 0. 0. 0. 0. 0. 0. 0. 0. 0.]\n",
            " [0. 0. 0. 0. 0. 1. 0. 0. 0. 0. 0. 1. 0. 0. 0. 0. 0. 0. 0. 0. 0. 0. 0. 0.\n",
            "  0. 0. 0. 0. 0. 0. 0. 0. 0. 0. 0. 0.]\n",
            " [0. 0. 0. 0. 1. 0. 0. 0. 0. 0. 0. 0. 0. 0. 0. 0. 0. 0. 0. 0. 0. 0. 0. 0.\n",
            "  0. 0. 0. 0. 0. 0. 1. 0. 0. 0. 0. 0.]\n",
            " [0. 0. 0. 0. 0. 1. 0. 0. 0. 0. 0. 0. 0. 0. 0. 0. 0. 0. 0. 0. 0. 0. 1. 0.\n",
            "  0. 0. 0. 0. 0. 0. 0. 0. 0. 0. 0. 0.]\n",
            " [0. 0. 0. 0. 0. 0. 1. 0. 0. 0. 0. 0. 0. 0. 0. 0. 1. 0. 0. 0. 0. 0. 0. 0.\n",
            "  0. 0. 0. 0. 0. 0. 0. 0. 0. 0. 0. 0.]\n",
            " [0. 0. 0. 0. 0. 0. 0. 0. 1. 0. 0. 0. 0. 0. 0. 0. 0. 0. 0. 0. 0. 0. 0. 0.\n",
            "  0. 0. 0. 0. 0. 0. 1. 0. 0. 0. 0. 0.]\n",
            " [0. 0. 0. 0. 1. 0. 0. 0. 0. 0. 0. 0. 0. 0. 0. 0. 0. 0. 0. 0. 0. 0. 0. 0.\n",
            "  0. 0. 1. 0. 0. 0. 0. 0. 0. 0. 0. 0.]\n",
            " [1. 0. 0. 0. 0. 0. 0. 0. 0. 0. 0. 0. 1. 0. 0. 0. 0. 0. 0. 0. 0. 0. 0. 0.\n",
            "  0. 0. 0. 0. 0. 0. 0. 0. 0. 0. 0. 0.]]\n",
            "[238, 146, 216, 131, 124, 142, 162, 228, 120, 2]\n"
          ]
        }
      ]
    },
    {
      "cell_type": "code",
      "metadata": {
        "pycharm": {
          "name": "#%%\n"
        },
        "colab": {
          "base_uri": "https://localhost:8080/"
        },
        "id": "_7VHDUWgnI1Q",
        "outputId": "5f99e35b-a74a-4bd0-8a0a-4b7769af9ad8"
      },
      "source": [
        "print(type(X_train[0][0][0]))"
      ],
      "execution_count": null,
      "outputs": [
        {
          "output_type": "stream",
          "name": "stdout",
          "text": [
            "<class 'numpy.float64'>\n"
          ]
        }
      ]
    },
    {
      "cell_type": "code",
      "metadata": {
        "pycharm": {
          "name": "#%%\n"
        },
        "id": "c_19tcDhnI1R"
      },
      "source": [
        "train_set = ConfigureDataset(X_train, Y_train, transform=transforms.Compose([transforms.ToTensor(),transforms.RandomHorizontalFlip(), transforms.Normalize(12.2904, 48.2189)]))\n",
        "train_loader = DataLoader(train_set, batch_size=64, shuffle=True)"
      ],
      "execution_count": null,
      "outputs": []
    },
    {
      "cell_type": "code",
      "metadata": {
        "pycharm": {
          "name": "#%%\n"
        },
        "id": "mCMw7lzZnI1R"
      },
      "source": [
        "test_set = ConfigureDataset(X_test, Y_test, transform=transforms.Compose([transforms.ToTensor(), transforms.RandomHorizontalFlip(), transforms.Normalize(12.2904, 48.2189)]))\n",
        "test_loader = DataLoader(test_set, batch_size=64, shuffle=True)"
      ],
      "execution_count": null,
      "outputs": []
    },
    {
      "cell_type": "code",
      "metadata": {
        "pycharm": {
          "name": "#%%\n"
        },
        "id": "6eIKjjeknI1T"
      },
      "source": [
        "def get_mean_and_std(dataloader):\n",
        "    channels_sum, channels_squared_sum, num_batches = 0, 0, 0\n",
        "    for data, _ in dataloader:\n",
        "        # Mean over batch, height and width, but not over the channels\n",
        "        channels_sum += torch.mean(data, dim=[0,2,3])\n",
        "        channels_squared_sum += torch.mean(data**2, dim=[0,2,3])\n",
        "        num_batches += 1\n",
        "\n",
        "    mean = channels_sum / num_batches\n",
        "\n",
        "    # std = sqrt(E[X^2] - (E[X])^2)\n",
        "    std = (channels_squared_sum / num_batches - mean ** 2) ** 0.5\n",
        "\n",
        "    return mean, std"
      ],
      "execution_count": null,
      "outputs": []
    },
    {
      "cell_type": "code",
      "metadata": {
        "pycharm": {
          "name": "#%%\n"
        },
        "colab": {
          "base_uri": "https://localhost:8080/"
        },
        "id": "nv2Gg2UxnI1T",
        "outputId": "8591a05b-47dd-42a0-9561-2d5e1b41a674"
      },
      "source": [
        "print(next(iter(train_loader))[0][0].mean())"
      ],
      "execution_count": null,
      "outputs": [
        {
          "output_type": "stream",
          "name": "stdout",
          "text": [
            "tensor(-0.0381, dtype=torch.float64)\n"
          ]
        }
      ]
    },
    {
      "cell_type": "code",
      "metadata": {
        "pycharm": {
          "name": "#%%\n"
        },
        "colab": {
          "base_uri": "https://localhost:8080/"
        },
        "id": "jKnyOk5OnI1U",
        "outputId": "b5909781-619b-42eb-92ba-fb39f9179428"
      },
      "source": [
        "print(get_mean_and_std(train_loader))\n",
        "print(get_mean_and_std(test_loader))"
      ],
      "execution_count": null,
      "outputs": [
        {
          "output_type": "stream",
          "name": "stdout",
          "text": [
            "(tensor([1.4850e-05], dtype=torch.float64), tensor([1.0000], dtype=torch.float64))\n",
            "(tensor([0.0005], dtype=torch.float64), tensor([1.0017], dtype=torch.float64))\n"
          ]
        }
      ]
    },
    {
      "cell_type": "code",
      "metadata": {
        "pycharm": {
          "name": "#%%\n"
        },
        "colab": {
          "base_uri": "https://localhost:8080/",
          "height": 500
        },
        "id": "-KUnKGcAnI1V",
        "outputId": "23ef1b1e-998e-4ef9-a944-cdebac62cfdc"
      },
      "source": [
        "import matplotlib.pyplot as plt\n",
        "import torchvision\n",
        "# functions to show an image\n",
        "def imshow(img):\n",
        "    npimg = img.numpy()\n",
        "    plt.imshow(np.transpose(npimg, (1, 2, 0)))\n",
        "    plt.show()\n",
        "\n",
        "# get some random training images\n",
        "dataiter = iter(train_loader)\n",
        "images, labels = next(dataiter)\n",
        "# print(images)\n",
        "# print(labels)\n",
        "# show images\n",
        "imshow(torchvision.utils.make_grid(images[:4]))\n",
        "# print labels\n",
        "print(' '.join('%5s' % convert_label(labels[j]) for j in range(8)))"
      ],
      "execution_count": null,
      "outputs": [
        {
          "output_type": "stream",
          "name": "stderr",
          "text": [
            "Clipping input data to the valid range for imshow with RGB data ([0..1] for floats or [0..255] for integers).\n"
          ]
        },
        {
          "output_type": "display_data",
          "data": {
            "image/png": "[encoded data removed]",
            "text/plain": [
              "<Figure size 432x288 with 1 Axes>"
            ]
          },
          "metadata": {
            "needs_background": "light"
          }
        },
        {
          "output_type": "error",
          "ename": "IndexError",
          "evalue": "ignored",
          "traceback": [
            "\u001b[0;31m---------------------------------------------------------------------------\u001b[0m",
            "\u001b[0;31mIndexError\u001b[0m                                Traceback (most recent call last)",
            "\u001b[0;32m<ipython-input-93-f90c9ab884bd>\u001b[0m in \u001b[0;36m<module>\u001b[0;34m()\u001b[0m\n\u001b[1;32m     15\u001b[0m \u001b[0mimshow\u001b[0m\u001b[0;34m(\u001b[0m\u001b[0mtorchvision\u001b[0m\u001b[0;34m.\u001b[0m\u001b[0mutils\u001b[0m\u001b[0;34m.\u001b[0m\u001b[0mmake_grid\u001b[0m\u001b[0;34m(\u001b[0m\u001b[0mimages\u001b[0m\u001b[0;34m[\u001b[0m\u001b[0;34m:\u001b[0m\u001b[0;36m4\u001b[0m\u001b[0;34m]\u001b[0m\u001b[0;34m)\u001b[0m\u001b[0;34m)\u001b[0m\u001b[0;34m\u001b[0m\u001b[0;34m\u001b[0m\u001b[0m\n\u001b[1;32m     16\u001b[0m \u001b[0;31m# print labels\u001b[0m\u001b[0;34m\u001b[0m\u001b[0;34m\u001b[0m\u001b[0;34m\u001b[0m\u001b[0m\n\u001b[0;32m---> 17\u001b[0;31m \u001b[0mprint\u001b[0m\u001b[0;34m(\u001b[0m\u001b[0;34m' '\u001b[0m\u001b[0;34m.\u001b[0m\u001b[0mjoin\u001b[0m\u001b[0;34m(\u001b[0m\u001b[0;34m'%5s'\u001b[0m \u001b[0;34m%\u001b[0m \u001b[0mconvert_label\u001b[0m\u001b[0;34m(\u001b[0m\u001b[0mlabels\u001b[0m\u001b[0;34m[\u001b[0m\u001b[0mj\u001b[0m\u001b[0;34m]\u001b[0m\u001b[0;34m)\u001b[0m \u001b[0;32mfor\u001b[0m \u001b[0mj\u001b[0m \u001b[0;32min\u001b[0m \u001b[0mrange\u001b[0m\u001b[0;34m(\u001b[0m\u001b[0;36m8\u001b[0m\u001b[0;34m)\u001b[0m\u001b[0;34m)\u001b[0m\u001b[0;34m)\u001b[0m\u001b[0;34m\u001b[0m\u001b[0;34m\u001b[0m\u001b[0m\n\u001b[0m",
            "\u001b[0;32m<ipython-input-93-f90c9ab884bd>\u001b[0m in \u001b[0;36m<genexpr>\u001b[0;34m(.0)\u001b[0m\n\u001b[1;32m     15\u001b[0m \u001b[0mimshow\u001b[0m\u001b[0;34m(\u001b[0m\u001b[0mtorchvision\u001b[0m\u001b[0;34m.\u001b[0m\u001b[0mutils\u001b[0m\u001b[0;34m.\u001b[0m\u001b[0mmake_grid\u001b[0m\u001b[0;34m(\u001b[0m\u001b[0mimages\u001b[0m\u001b[0;34m[\u001b[0m\u001b[0;34m:\u001b[0m\u001b[0;36m4\u001b[0m\u001b[0;34m]\u001b[0m\u001b[0;34m)\u001b[0m\u001b[0;34m)\u001b[0m\u001b[0;34m\u001b[0m\u001b[0;34m\u001b[0m\u001b[0m\n\u001b[1;32m     16\u001b[0m \u001b[0;31m# print labels\u001b[0m\u001b[0;34m\u001b[0m\u001b[0;34m\u001b[0m\u001b[0;34m\u001b[0m\u001b[0m\n\u001b[0;32m---> 17\u001b[0;31m \u001b[0mprint\u001b[0m\u001b[0;34m(\u001b[0m\u001b[0;34m' '\u001b[0m\u001b[0;34m.\u001b[0m\u001b[0mjoin\u001b[0m\u001b[0;34m(\u001b[0m\u001b[0;34m'%5s'\u001b[0m \u001b[0;34m%\u001b[0m \u001b[0mconvert_label\u001b[0m\u001b[0;34m(\u001b[0m\u001b[0mlabels\u001b[0m\u001b[0;34m[\u001b[0m\u001b[0mj\u001b[0m\u001b[0;34m]\u001b[0m\u001b[0;34m)\u001b[0m \u001b[0;32mfor\u001b[0m \u001b[0mj\u001b[0m \u001b[0;32min\u001b[0m \u001b[0mrange\u001b[0m\u001b[0;34m(\u001b[0m\u001b[0;36m8\u001b[0m\u001b[0;34m)\u001b[0m\u001b[0;34m)\u001b[0m\u001b[0;34m)\u001b[0m\u001b[0;34m\u001b[0m\u001b[0;34m\u001b[0m\u001b[0m\n\u001b[0m",
            "\u001b[0;32m<ipython-input-88-fcd19d0dc1be>\u001b[0m in \u001b[0;36mconvert_label\u001b[0;34m(label)\u001b[0m\n\u001b[1;32m      1\u001b[0m \u001b[0;31m# converts labels from an array of 36 to a value between 0 nd 259\u001b[0m\u001b[0;34m\u001b[0m\u001b[0;34m\u001b[0m\u001b[0;34m\u001b[0m\u001b[0m\n\u001b[1;32m      2\u001b[0m \u001b[0;32mdef\u001b[0m \u001b[0mconvert_label\u001b[0m\u001b[0;34m(\u001b[0m\u001b[0mlabel\u001b[0m\u001b[0;34m)\u001b[0m\u001b[0;34m:\u001b[0m\u001b[0;34m\u001b[0m\u001b[0;34m\u001b[0m\u001b[0m\n\u001b[0;32m----> 3\u001b[0;31m     \u001b[0mnuml\u001b[0m \u001b[0;34m=\u001b[0m \u001b[0mlabel\u001b[0m\u001b[0;34m[\u001b[0m\u001b[0;34m:\u001b[0m\u001b[0;36m10\u001b[0m\u001b[0;34m]\u001b[0m\u001b[0;34m\u001b[0m\u001b[0;34m\u001b[0m\u001b[0m\n\u001b[0m\u001b[1;32m      4\u001b[0m     \u001b[0mletter\u001b[0m \u001b[0;34m=\u001b[0m \u001b[0mlabel\u001b[0m\u001b[0;34m[\u001b[0m\u001b[0;36m10\u001b[0m\u001b[0;34m:\u001b[0m\u001b[0;34m]\u001b[0m\u001b[0;34m\u001b[0m\u001b[0;34m\u001b[0m\u001b[0m\n\u001b[1;32m      5\u001b[0m     \u001b[0;32mreturn\u001b[0m \u001b[0;36m26\u001b[0m \u001b[0;34m*\u001b[0m \u001b[0mnp\u001b[0m\u001b[0;34m.\u001b[0m\u001b[0mwhere\u001b[0m\u001b[0;34m(\u001b[0m\u001b[0mnuml\u001b[0m \u001b[0;34m==\u001b[0m \u001b[0;36m1\u001b[0m\u001b[0;34m)\u001b[0m\u001b[0;34m[\u001b[0m\u001b[0;36m0\u001b[0m\u001b[0;34m]\u001b[0m\u001b[0;34m[\u001b[0m\u001b[0;36m0\u001b[0m\u001b[0;34m]\u001b[0m \u001b[0;34m+\u001b[0m \u001b[0mnp\u001b[0m\u001b[0;34m.\u001b[0m\u001b[0mwhere\u001b[0m\u001b[0;34m(\u001b[0m\u001b[0mletter\u001b[0m \u001b[0;34m==\u001b[0m \u001b[0;36m1\u001b[0m\u001b[0;34m)\u001b[0m\u001b[0;34m[\u001b[0m\u001b[0;36m0\u001b[0m\u001b[0;34m]\u001b[0m\u001b[0;34m[\u001b[0m\u001b[0;36m0\u001b[0m\u001b[0;34m]\u001b[0m\u001b[0;34m\u001b[0m\u001b[0;34m\u001b[0m\u001b[0m\n",
            "\u001b[0;31mIndexError\u001b[0m: slice() cannot be applied to a 0-dim tensor."
          ]
        }
      ]
    },
    {
      "cell_type": "code",
      "metadata": {
        "pycharm": {
          "name": "#%%\n"
        },
        "id": "_lU_n4oOnI1W"
      },
      "source": [
        "# Define a convolutional neural network\n",
        "\n",
        "class Net(nn.Module):\n",
        "    def __init__(self):\n",
        "        super(Net, self).__init__()\n",
        "\n",
        "        self.conv_layer_1 = nn.Sequential(\n",
        "            nn.Conv2d(1, 128, 5),\n",
        "            nn.BatchNorm2d(128),\n",
        "            nn.ReLU(),\n",
        "            nn.MaxPool2d(2,2)\n",
        "        )\n",
        "\n",
        "        self.conv_layer_2 = nn.Sequential(\n",
        "            nn.Conv2d(128, 256, 3),\n",
        "            nn.BatchNorm2d(256),\n",
        "            nn.ReLU(),\n",
        "            nn.MaxPool2d(2,2)\n",
        "        )\n",
        "\n",
        "        self.conv_layer_3 = nn.Sequential(\n",
        "            nn.Conv2d(256, 256, 3),\n",
        "            nn.BatchNorm2d(256),\n",
        "            nn.ReLU(),\n",
        "            nn.MaxPool2d(2,2)\n",
        "        )\n",
        "\n",
        "        self.full_layer_1 = nn.Sequential(\n",
        "            nn.Linear(256 * 5 * 5, 1024),\n",
        "            nn.ReLU()\n",
        "        )\n",
        "\n",
        "        self.output_layer = nn.Sequential(\n",
        "            nn.Linear(1024, 260),\n",
        "        )\n",
        "\n",
        "    def forward(self, x):\n",
        "        x = self.conv_layer_1(x)\n",
        "        x = self.conv_layer_2(x)\n",
        "        x = self.conv_layer_3(x)\n",
        "        x = x.view(-1, 256 * 5 * 5)\n",
        "        x = self.full_layer_1(x)\n",
        "        x = self.output_layer(x)\n",
        "\n",
        "        return x\n",
        "\n",
        "net = Net().to(device)"
      ],
      "execution_count": null,
      "outputs": []
    },
    {
      "cell_type": "code",
      "metadata": {
        "pycharm": {
          "name": "#%%\n"
        },
        "id": "SU8UGjctnI1W"
      },
      "source": [
        "# Define a loss function and optimizer\n",
        "\n",
        "criterion = nn.CrossEntropyLoss()\n",
        "optimizer = optim.Adam(net.parameters(), lr=3e-4, weight_decay=1e-5)#lr=0.01,momentum=0.9,lr=3e-4\n"
      ],
      "execution_count": null,
      "outputs": []
    },
    {
      "cell_type": "code",
      "metadata": {
        "pycharm": {
          "name": "#%%\n"
        },
        "id": "uAkbTAMUnI1X"
      },
      "source": [
        "# test one set of images\n",
        "# images and lables from image print cell\n",
        "# zero the parameter gradients\n",
        "optimizer.zero_grad()\n",
        "\n",
        "images, labels = images.cuda(), labels.cuda()#when using gpu uncomment\n",
        "\n",
        "# forward + backward + optimize\n",
        "outputs = net(images.float())\n",
        "loss = criterion(outputs, labels)\n",
        "loss.backward()\n",
        "optimizer.step()\n",
        "\n",
        "_, predicted = torch.max(outputs.data, 1)\n"
      ],
      "execution_count": null,
      "outputs": []
    },
    {
      "cell_type": "code",
      "metadata": {
        "pycharm": {
          "name": "#%%\n"
        },
        "colab": {
          "base_uri": "https://localhost:8080/"
        },
        "id": "6F66JWE6nI1b",
        "outputId": "f3a13e9c-afe0-4880-fa2c-6a62cb7a7ad0"
      },
      "source": [
        "print(loss)\n",
        "print(labels)\n",
        "print(predicted)\n",
        "print((predicted == labels).sum().item())"
      ],
      "execution_count": null,
      "outputs": [
        {
          "output_type": "stream",
          "name": "stdout",
          "text": [
            "tensor(1.9780, device='cuda:0', grad_fn=<NllLossBackward0>)\n",
            "tensor([ 82,  43,  10, 232,  60, 226, 219, 209], device='cuda:0')\n",
            "tensor([ 82, 199,  10, 232,  68, 226,  46, 162], device='cuda:0')\n",
            "4\n"
          ]
        }
      ]
    },
    {
      "cell_type": "code",
      "metadata": {
        "pycharm": {
          "name": "#%%\n"
        },
        "colab": {
          "base_uri": "https://localhost:8080/"
        },
        "id": "9NIg3Im4nI1c",
        "outputId": "b0d5d3e9-c285-4880-8e7e-90517a068d15"
      },
      "source": [
        "# Train the network\n",
        "\n",
        "for epoch in range(20):  # loop over the dataset multiple times\n",
        "    net = net.float()\n",
        "    running_loss = 0.0\n",
        "    for i, data in enumerate(train_loader, 0):\n",
        "        # get the inputs; data is a list of [inputs, labels]\n",
        "        inputs, labels = data\n",
        "        # zero the parameter gradients\n",
        "        optimizer.zero_grad()\n",
        "\n",
        "        inputs, labels = inputs.cuda(), labels.cuda()#when using gpu uncomment\n",
        "\n",
        "        # forward + backward + optimize\n",
        "        outputs = net(inputs.float())\n",
        "        loss = criterion(outputs, labels)\n",
        "        loss.backward()\n",
        "        optimizer.step()\n",
        "\n",
        "        # print statistics\n",
        "        running_loss += loss.item()\n",
        "        if i % 50 == 49:    # print every 50 mini-batches\n",
        "            print('[%d, %5d] loss: %.3f' %\n",
        "                  (epoch + 1, i + 1, running_loss / 50))\n",
        "            running_loss = 0.0\n",
        "\n",
        "print('Finished Training')"
      ],
      "execution_count": null,
      "outputs": [
        {
          "output_type": "stream",
          "name": "stdout",
          "text": [
            "[1,    50] loss: 0.192\n",
            "[1,   100] loss: 0.077\n",
            "[1,   150] loss: 0.088\n",
            "[1,   200] loss: 0.110\n",
            "[1,   250] loss: 0.102\n",
            "[1,   300] loss: 0.138\n",
            "[1,   350] loss: 0.176\n",
            "[2,    50] loss: 0.151\n",
            "[2,   100] loss: 0.139\n",
            "[2,   150] loss: 0.140\n",
            "[2,   200] loss: 0.132\n",
            "[2,   250] loss: 0.146\n",
            "[2,   300] loss: 0.147\n",
            "[2,   350] loss: 0.130\n",
            "[3,    50] loss: 0.127\n",
            "[3,   100] loss: 0.109\n",
            "[3,   150] loss: 0.158\n",
            "[3,   200] loss: 0.119\n",
            "[3,   250] loss: 0.177\n",
            "[3,   300] loss: 0.165\n",
            "[3,   350] loss: 0.142\n",
            "[4,    50] loss: 0.129\n",
            "[4,   100] loss: 0.151\n",
            "[4,   150] loss: 0.136\n",
            "[4,   200] loss: 0.152\n",
            "[4,   250] loss: 0.133\n",
            "[4,   300] loss: 0.148\n",
            "[4,   350] loss: 0.130\n",
            "[5,    50] loss: 0.128\n",
            "[5,   100] loss: 0.144\n",
            "[5,   150] loss: 0.140\n",
            "[5,   200] loss: 0.138\n",
            "[5,   250] loss: 0.159\n",
            "[5,   300] loss: 0.128\n",
            "[5,   350] loss: 0.145\n",
            "[6,    50] loss: 0.118\n",
            "[6,   100] loss: 0.114\n",
            "[6,   150] loss: 0.104\n",
            "[6,   200] loss: 0.110\n",
            "[6,   250] loss: 0.159\n",
            "[6,   300] loss: 0.146\n",
            "[6,   350] loss: 0.112\n",
            "[7,    50] loss: 0.143\n",
            "[7,   100] loss: 0.105\n",
            "[7,   150] loss: 0.092\n",
            "[7,   200] loss: 0.116\n",
            "[7,   250] loss: 0.096\n",
            "[7,   300] loss: 0.096\n",
            "[7,   350] loss: 0.142\n",
            "[8,    50] loss: 0.104\n",
            "[8,   100] loss: 0.089\n",
            "[8,   150] loss: 0.092\n",
            "[8,   200] loss: 0.097\n",
            "[8,   250] loss: 0.092\n",
            "[8,   300] loss: 0.123\n",
            "[8,   350] loss: 0.124\n",
            "[9,    50] loss: 0.094\n",
            "[9,   100] loss: 0.085\n",
            "[9,   150] loss: 0.122\n",
            "[9,   200] loss: 0.135\n",
            "[9,   250] loss: 0.116\n",
            "[9,   300] loss: 0.130\n",
            "[9,   350] loss: 0.115\n",
            "[10,    50] loss: 0.112\n",
            "[10,   100] loss: 0.118\n",
            "[10,   150] loss: 0.096\n",
            "[10,   200] loss: 0.109\n",
            "[10,   250] loss: 0.095\n",
            "[10,   300] loss: 0.117\n",
            "[10,   350] loss: 0.114\n",
            "[11,    50] loss: 0.100\n",
            "[11,   100] loss: 0.078\n",
            "[11,   150] loss: 0.104\n",
            "[11,   200] loss: 0.091\n",
            "[11,   250] loss: 0.072\n",
            "[11,   300] loss: 0.075\n",
            "[11,   350] loss: 0.093\n",
            "[12,    50] loss: 0.091\n",
            "[12,   100] loss: 0.098\n",
            "[12,   150] loss: 0.105\n",
            "[12,   200] loss: 0.121\n",
            "[12,   250] loss: 0.170\n",
            "[12,   300] loss: 0.158\n",
            "[12,   350] loss: 0.124\n",
            "[13,    50] loss: 0.074\n",
            "[13,   100] loss: 0.107\n",
            "[13,   150] loss: 0.097\n",
            "[13,   200] loss: 0.059\n",
            "[13,   250] loss: 0.073\n",
            "[13,   300] loss: 0.082\n",
            "[13,   350] loss: 0.082\n",
            "[14,    50] loss: 0.060\n",
            "[14,   100] loss: 0.066\n",
            "[14,   150] loss: 0.082\n",
            "[14,   200] loss: 0.099\n",
            "[14,   250] loss: 0.085\n",
            "[14,   300] loss: 0.099\n",
            "[14,   350] loss: 0.104\n",
            "[15,    50] loss: 0.083\n",
            "[15,   100] loss: 0.102\n",
            "[15,   150] loss: 0.112\n",
            "[15,   200] loss: 0.073\n",
            "[15,   250] loss: 0.060\n",
            "[15,   300] loss: 0.074\n",
            "[15,   350] loss: 0.092\n",
            "[16,    50] loss: 0.092\n",
            "[16,   100] loss: 0.081\n",
            "[16,   150] loss: 0.088\n",
            "[16,   200] loss: 0.084\n",
            "[16,   250] loss: 0.086\n",
            "[16,   300] loss: 0.087\n",
            "[16,   350] loss: 0.106\n",
            "[17,    50] loss: 0.090\n",
            "[17,   100] loss: 0.076\n",
            "[17,   150] loss: 0.065\n",
            "[17,   200] loss: 0.104\n",
            "[17,   250] loss: 0.081\n",
            "[17,   300] loss: 0.090\n",
            "[17,   350] loss: 0.093\n",
            "[18,    50] loss: 0.095\n",
            "[18,   100] loss: 0.069\n",
            "[18,   150] loss: 0.060\n",
            "[18,   200] loss: 0.091\n",
            "[18,   250] loss: 0.094\n",
            "[18,   300] loss: 0.078\n",
            "[18,   350] loss: 0.078\n",
            "[19,    50] loss: 0.068\n",
            "[19,   100] loss: 0.070\n",
            "[19,   150] loss: 0.091\n",
            "[19,   200] loss: 0.089\n",
            "[19,   250] loss: 0.104\n",
            "[19,   300] loss: 0.087\n",
            "[19,   350] loss: 0.103\n",
            "[20,    50] loss: 0.073\n",
            "[20,   100] loss: 0.071\n",
            "[20,   150] loss: 0.056\n",
            "[20,   200] loss: 0.057\n",
            "[20,   250] loss: 0.074\n",
            "[20,   300] loss: 0.099\n",
            "[20,   350] loss: 0.135\n",
            "Finished Training\n"
          ]
        }
      ]
    },
    {
      "cell_type": "code",
      "metadata": {
        "pycharm": {
          "name": "#%%\n"
        },
        "id": "-DSIqGVrnI1d"
      },
      "source": [
        "print(list(net.parameters()))\n"
      ],
      "execution_count": null,
      "outputs": []
    },
    {
      "cell_type": "code",
      "metadata": {
        "pycharm": {
          "name": "#%%\n"
        },
        "id": "jTrTkOlAnI1e",
        "colab": {
          "base_uri": "https://localhost:8080/"
        },
        "outputId": "c2c80a79-06e7-41b5-c5d6-9935bdf2f299"
      },
      "source": [
        "testiter = iter(test_loader)\n",
        "images, labels = next(testiter)\n",
        "\n",
        "images, labels = images.cuda(), labels.cuda()#uncomment when using gpu\n",
        "\n",
        "outputs = net(images.float())\n",
        "print(outputs.data)\n",
        "_, predicted = torch.max(outputs.data, 1)\n",
        "print(predicted)\n",
        "print(labels)"
      ],
      "execution_count": null,
      "outputs": [
        {
          "output_type": "stream",
          "name": "stdout",
          "text": [
            "tensor([[ -49.4871,  -73.8119,  -54.5307,  ...,  -36.3130,  -24.3237,\n",
            "          -76.4200],\n",
            "        [ -54.2828,  -53.1219,  -75.7499,  ...,  -53.3106,  -71.2955,\n",
            "          -75.7771],\n",
            "        [ -53.9507,  -46.9919,  -80.6832,  ...,  -62.7901,  -64.4932,\n",
            "          -79.2082],\n",
            "        ...,\n",
            "        [ -68.8420,  -55.8142,  -86.3615,  ...,  -56.2817,  -50.3280,\n",
            "          -54.1690],\n",
            "        [ -76.0651,  -52.3765,  -83.4253,  ...,  -56.5461,  -55.8910,\n",
            "          -14.2567],\n",
            "        [ -84.3472,  -66.4941, -103.0310,  ...,  -72.8393,  -96.4112,\n",
            "          -42.2177]], device='cuda:0')\n",
            "tensor([256, 209, 221, 247, 204, 133,  97,  36,  45, 221, 236,  71, 238,  74,\n",
            "        109, 104,  37, 122,  49,  28, 163,  47, 223,  67,  37,   7,  76,   7,\n",
            "         73,  97, 118,  32, 141, 151, 167, 123, 259,   4, 250, 173,  47, 243,\n",
            "         27, 230, 240, 188, 196, 149, 213, 169, 165, 204,  73,  85, 200,  64,\n",
            "         56,  20,  94,  99, 131, 255, 259, 233], device='cuda:0')\n",
            "tensor([256, 209, 221, 244, 204, 133,  97,  36,  31, 221, 236,  71, 238,  74,\n",
            "        109, 120,  37, 122,  49,  28, 163,  47, 223,  67,  37,   7,  76,   7,\n",
            "         73, 101, 118,  31, 141, 151, 167, 109, 259,   4, 234, 176,  47, 243,\n",
            "         27, 230, 240, 201, 196, 135, 213, 169, 150, 204,  73,  85, 147,  64,\n",
            "         56,  20,  94,  99,  25, 255, 259, 233], device='cuda:0')\n"
          ]
        }
      ]
    },
    {
      "cell_type": "code",
      "metadata": {
        "pycharm": {
          "name": "#%%\n"
        },
        "id": "P-eJCTxYnI1e"
      },
      "source": [
        "# Let's see how the network performs on the whole test dataset\n",
        "\n",
        "correct = 0\n",
        "total = 0\n",
        "with torch.no_grad():\n",
        "    for data in test_loader:\n",
        "        images, labels = data\n",
        "\n",
        "        images, labels = images.cuda(), labels.cuda() #uncomment when using gpu\n",
        "\n",
        "        outputs = net(images.float())\n",
        "        # _, predicted = torch.topk(outputs, 2)\n",
        "        _, predicted = torch.max(outputs.data, 1)\n",
        "\n",
        "        total += len(labels)\n",
        "        correct += (predicted == labels).sum().item()\n"
      ],
      "execution_count": null,
      "outputs": []
    },
    {
      "cell_type": "code",
      "metadata": {
        "pycharm": {
          "name": "#%%\n"
        },
        "id": "R3XFRpCbnI1f",
        "colab": {
          "base_uri": "https://localhost:8080/"
        },
        "outputId": "f768cef9-d1d3-4460-e6a1-2e25244dcb74"
      },
      "source": [
        "print(outputs.shape)\n",
        "print(labels.shape)\n",
        "print(total)\n",
        "print(correct)\n",
        "\n",
        "print(torch.max(outputs.data, 1))\n",
        "print(labels)\n",
        "\n",
        "print('Accuracy of the network on the 5000 test images: %d %%' % (\n",
        "    100 * correct / total))"
      ],
      "execution_count": null,
      "outputs": [
        {
          "output_type": "stream",
          "name": "stdout",
          "text": [
            "torch.Size([8, 260])\n",
            "torch.Size([8])\n",
            "5000\n",
            "3512\n",
            "torch.return_types.max(\n",
            "values=tensor([ -8.1658, -10.6015,  -9.3646, -11.7322,  -7.9146, -20.9746, -13.0231,\n",
            "        -12.9122], device='cuda:0'),\n",
            "indices=tensor([ 85,  71,  15, 138, 111, 238, 184, 226], device='cuda:0'))\n",
            "tensor([ 85,  71,  15, 138, 104, 238, 184, 226], device='cuda:0')\n",
            "Accuracy of the network on the 5000 test images: 70 %\n"
          ]
        }
      ]
    },
    {
      "cell_type": "code",
      "metadata": {
        "id": "L6dCSfRDo79_"
      },
      "source": [
        "# Save our trained model\n",
        "\n",
        "PATH = '.\\model_latest.pth'\n",
        "torch.save({'model71_state_dict':net.state_dict()}, PATH)"
      ],
      "execution_count": null,
      "outputs": []
    },
    {
      "cell_type": "code",
      "metadata": {
        "id": "2csuP94Su1qz"
      },
      "source": [
        "def decode_label(label):\n",
        "    new_label = np.zeros(36).astype(np.float64)\n",
        "    num_idx = label//26\n",
        "    let_idx = label%26\n",
        "    new_label[num_idx] = 1.\n",
        "    new_label[10+let_idx] = 1.\n",
        "    return new_label"
      ],
      "execution_count": null,
      "outputs": []
    },
    {
      "cell_type": "markdown",
      "metadata": {
        "id": "RU4NV5Ayu_q0"
      },
      "source": [
        "Run the decoder on the test labels"
      ]
    },
    {
      "cell_type": "code",
      "metadata": {
        "id": "WW95Fsn3vi87"
      },
      "source": [
        "file = open('../images_test.pkl', 'rb')\n",
        "X_test_data = pkl.load(file)\n",
        "file.close()"
      ],
      "execution_count": null,
      "outputs": []
    },
    {
      "cell_type": "code",
      "metadata": {
        "id": "rCKH2xiyvTLb"
      },
      "source": [
        "testing_set = ConfigureDataset(X_test_data, Y_test, transform=transforms.Compose([transforms.ToTensor(), transforms.RandomHorizontalFlip(), transforms.Normalize(12.2904, 48.2189)]))\n",
        "testing_loader = DataLoader(testing_set, batch_size=64, shuffle=True)"
      ],
      "execution_count": null,
      "outputs": []
    },
    {
      "cell_type": "code",
      "metadata": {
        "colab": {
          "base_uri": "https://localhost:8080/"
        },
        "id": "h-KOxFMcxiAi",
        "outputId": "24ace1cd-c1db-47bc-e753-28174ac1598a"
      },
      "source": [
        "testing_loader"
      ],
      "execution_count": null,
      "outputs": [
        {
          "output_type": "execute_result",
          "data": {
            "text/plain": [
              "<torch.utils.data.dataloader.DataLoader at 0x7fc1f3fd23d0>"
            ]
          },
          "metadata": {},
          "execution_count": 139
        }
      ]
    },
    {
      "cell_type": "code",
      "metadata": {
        "colab": {
          "base_uri": "https://localhost:8080/",
          "height": 472
        },
        "id": "evp5HacCu_cE",
        "outputId": "b7a0d352-63c2-4104-f81d-202c08090e97"
      },
      "source": [
        "import csv\n",
        "\n",
        "header = ['Id', 'Category']\n",
        "\n",
        "# open the file in the write mode\n",
        "f = open('../csv_output1.csv', 'w')\n",
        "# create the csv writer\n",
        "writer = csv.writer(f)\n",
        "\n",
        "i=0\n",
        "with torch.no_grad():\n",
        "    for data in testing_loader: #error here with index of testing_loader\n",
        "        images, labels = data\n",
        "\n",
        "        images, labels = images.cuda(), labels.cuda() #uncomment when using gpu\n",
        "\n",
        "        outputs = net(images)#.float())\n",
        "        # _, predicted = torch.topk(outputs, 2)\n",
        "        _, predicted = torch.max(outputs.data, 1)\n",
        "\n",
        "        #add predicted labels to the CSV file\n",
        "        row = [i, predicted]\n",
        "        # write a row to the csv file\n",
        "        writer.writerow(row)\n",
        "        i=i+1\n",
        "\n",
        "\n",
        "\n",
        "# close the file\n",
        "f.close()"
      ],
      "execution_count": null,
      "outputs": [
        {
          "output_type": "error",
          "ename": "TypeError",
          "evalue": "ignored",
          "traceback": [
            "\u001b[0;31m---------------------------------------------------------------------------\u001b[0m",
            "\u001b[0;31mTypeError\u001b[0m                                 Traceback (most recent call last)",
            "\u001b[0;32m<ipython-input-143-65ca47987a71>\u001b[0m in \u001b[0;36m<module>\u001b[0;34m()\u001b[0m\n\u001b[1;32m     15\u001b[0m         \u001b[0;31m#images=images.cuda()#, labels = images.cuda(), labels.cuda() #uncomment when using gpu\u001b[0m\u001b[0;34m\u001b[0m\u001b[0;34m\u001b[0m\u001b[0;34m\u001b[0m\u001b[0m\n\u001b[1;32m     16\u001b[0m \u001b[0;34m\u001b[0m\u001b[0m\n\u001b[0;32m---> 17\u001b[0;31m         \u001b[0moutputs\u001b[0m \u001b[0;34m=\u001b[0m \u001b[0mnet\u001b[0m\u001b[0;34m(\u001b[0m\u001b[0mimages\u001b[0m\u001b[0;34m)\u001b[0m\u001b[0;31m#.float())\u001b[0m\u001b[0;34m\u001b[0m\u001b[0;34m\u001b[0m\u001b[0m\n\u001b[0m\u001b[1;32m     18\u001b[0m         \u001b[0;31m# _, predicted = torch.topk(outputs, 2)\u001b[0m\u001b[0;34m\u001b[0m\u001b[0;34m\u001b[0m\u001b[0;34m\u001b[0m\u001b[0m\n\u001b[1;32m     19\u001b[0m         \u001b[0m_\u001b[0m\u001b[0;34m,\u001b[0m \u001b[0mpredicted\u001b[0m \u001b[0;34m=\u001b[0m \u001b[0mtorch\u001b[0m\u001b[0;34m.\u001b[0m\u001b[0mmax\u001b[0m\u001b[0;34m(\u001b[0m\u001b[0moutputs\u001b[0m\u001b[0;34m.\u001b[0m\u001b[0mdata\u001b[0m\u001b[0;34m,\u001b[0m \u001b[0;36m1\u001b[0m\u001b[0;34m)\u001b[0m\u001b[0;34m\u001b[0m\u001b[0;34m\u001b[0m\u001b[0m\n",
            "\u001b[0;32m/usr/local/lib/python3.7/dist-packages/torch/nn/modules/module.py\u001b[0m in \u001b[0;36m_call_impl\u001b[0;34m(self, *input, **kwargs)\u001b[0m\n\u001b[1;32m   1100\u001b[0m         if not (self._backward_hooks or self._forward_hooks or self._forward_pre_hooks or _global_backward_hooks\n\u001b[1;32m   1101\u001b[0m                 or _global_forward_hooks or _global_forward_pre_hooks):\n\u001b[0;32m-> 1102\u001b[0;31m             \u001b[0;32mreturn\u001b[0m \u001b[0mforward_call\u001b[0m\u001b[0;34m(\u001b[0m\u001b[0;34m*\u001b[0m\u001b[0minput\u001b[0m\u001b[0;34m,\u001b[0m \u001b[0;34m**\u001b[0m\u001b[0mkwargs\u001b[0m\u001b[0;34m)\u001b[0m\u001b[0;34m\u001b[0m\u001b[0;34m\u001b[0m\u001b[0m\n\u001b[0m\u001b[1;32m   1103\u001b[0m         \u001b[0;31m# Do not call functions when jit is used\u001b[0m\u001b[0;34m\u001b[0m\u001b[0;34m\u001b[0m\u001b[0;34m\u001b[0m\u001b[0m\n\u001b[1;32m   1104\u001b[0m         \u001b[0mfull_backward_hooks\u001b[0m\u001b[0;34m,\u001b[0m \u001b[0mnon_full_backward_hooks\u001b[0m \u001b[0;34m=\u001b[0m \u001b[0;34m[\u001b[0m\u001b[0;34m]\u001b[0m\u001b[0;34m,\u001b[0m \u001b[0;34m[\u001b[0m\u001b[0;34m]\u001b[0m\u001b[0;34m\u001b[0m\u001b[0;34m\u001b[0m\u001b[0m\n",
            "\u001b[0;32m<ipython-input-94-9bd8a5c14d9b>\u001b[0m in \u001b[0;36mforward\u001b[0;34m(self, x)\u001b[0m\n\u001b[1;32m     36\u001b[0m \u001b[0;34m\u001b[0m\u001b[0m\n\u001b[1;32m     37\u001b[0m     \u001b[0;32mdef\u001b[0m \u001b[0mforward\u001b[0m\u001b[0;34m(\u001b[0m\u001b[0mself\u001b[0m\u001b[0;34m,\u001b[0m \u001b[0mx\u001b[0m\u001b[0;34m)\u001b[0m\u001b[0;34m:\u001b[0m\u001b[0;34m\u001b[0m\u001b[0;34m\u001b[0m\u001b[0m\n\u001b[0;32m---> 38\u001b[0;31m         \u001b[0mx\u001b[0m \u001b[0;34m=\u001b[0m \u001b[0mself\u001b[0m\u001b[0;34m.\u001b[0m\u001b[0mconv_layer_1\u001b[0m\u001b[0;34m(\u001b[0m\u001b[0mx\u001b[0m\u001b[0;34m)\u001b[0m\u001b[0;34m\u001b[0m\u001b[0;34m\u001b[0m\u001b[0m\n\u001b[0m\u001b[1;32m     39\u001b[0m         \u001b[0mx\u001b[0m \u001b[0;34m=\u001b[0m \u001b[0mself\u001b[0m\u001b[0;34m.\u001b[0m\u001b[0mconv_layer_2\u001b[0m\u001b[0;34m(\u001b[0m\u001b[0mx\u001b[0m\u001b[0;34m)\u001b[0m\u001b[0;34m\u001b[0m\u001b[0;34m\u001b[0m\u001b[0m\n\u001b[1;32m     40\u001b[0m         \u001b[0mx\u001b[0m \u001b[0;34m=\u001b[0m \u001b[0mself\u001b[0m\u001b[0;34m.\u001b[0m\u001b[0mconv_layer_3\u001b[0m\u001b[0;34m(\u001b[0m\u001b[0mx\u001b[0m\u001b[0;34m)\u001b[0m\u001b[0;34m\u001b[0m\u001b[0;34m\u001b[0m\u001b[0m\n",
            "\u001b[0;32m/usr/local/lib/python3.7/dist-packages/torch/nn/modules/module.py\u001b[0m in \u001b[0;36m_call_impl\u001b[0;34m(self, *input, **kwargs)\u001b[0m\n\u001b[1;32m   1100\u001b[0m         if not (self._backward_hooks or self._forward_hooks or self._forward_pre_hooks or _global_backward_hooks\n\u001b[1;32m   1101\u001b[0m                 or _global_forward_hooks or _global_forward_pre_hooks):\n\u001b[0;32m-> 1102\u001b[0;31m             \u001b[0;32mreturn\u001b[0m \u001b[0mforward_call\u001b[0m\u001b[0;34m(\u001b[0m\u001b[0;34m*\u001b[0m\u001b[0minput\u001b[0m\u001b[0;34m,\u001b[0m \u001b[0;34m**\u001b[0m\u001b[0mkwargs\u001b[0m\u001b[0;34m)\u001b[0m\u001b[0;34m\u001b[0m\u001b[0;34m\u001b[0m\u001b[0m\n\u001b[0m\u001b[1;32m   1103\u001b[0m         \u001b[0;31m# Do not call functions when jit is used\u001b[0m\u001b[0;34m\u001b[0m\u001b[0;34m\u001b[0m\u001b[0;34m\u001b[0m\u001b[0m\n\u001b[1;32m   1104\u001b[0m         \u001b[0mfull_backward_hooks\u001b[0m\u001b[0;34m,\u001b[0m \u001b[0mnon_full_backward_hooks\u001b[0m \u001b[0;34m=\u001b[0m \u001b[0;34m[\u001b[0m\u001b[0;34m]\u001b[0m\u001b[0;34m,\u001b[0m \u001b[0;34m[\u001b[0m\u001b[0;34m]\u001b[0m\u001b[0;34m\u001b[0m\u001b[0;34m\u001b[0m\u001b[0m\n",
            "\u001b[0;32m/usr/local/lib/python3.7/dist-packages/torch/nn/modules/container.py\u001b[0m in \u001b[0;36mforward\u001b[0;34m(self, input)\u001b[0m\n\u001b[1;32m    139\u001b[0m     \u001b[0;32mdef\u001b[0m \u001b[0mforward\u001b[0m\u001b[0;34m(\u001b[0m\u001b[0mself\u001b[0m\u001b[0;34m,\u001b[0m \u001b[0minput\u001b[0m\u001b[0;34m)\u001b[0m\u001b[0;34m:\u001b[0m\u001b[0;34m\u001b[0m\u001b[0;34m\u001b[0m\u001b[0m\n\u001b[1;32m    140\u001b[0m         \u001b[0;32mfor\u001b[0m \u001b[0mmodule\u001b[0m \u001b[0;32min\u001b[0m \u001b[0mself\u001b[0m\u001b[0;34m:\u001b[0m\u001b[0;34m\u001b[0m\u001b[0;34m\u001b[0m\u001b[0m\n\u001b[0;32m--> 141\u001b[0;31m             \u001b[0minput\u001b[0m \u001b[0;34m=\u001b[0m \u001b[0mmodule\u001b[0m\u001b[0;34m(\u001b[0m\u001b[0minput\u001b[0m\u001b[0;34m)\u001b[0m\u001b[0;34m\u001b[0m\u001b[0;34m\u001b[0m\u001b[0m\n\u001b[0m\u001b[1;32m    142\u001b[0m         \u001b[0;32mreturn\u001b[0m \u001b[0minput\u001b[0m\u001b[0;34m\u001b[0m\u001b[0;34m\u001b[0m\u001b[0m\n\u001b[1;32m    143\u001b[0m \u001b[0;34m\u001b[0m\u001b[0m\n",
            "\u001b[0;32m/usr/local/lib/python3.7/dist-packages/torch/nn/modules/module.py\u001b[0m in \u001b[0;36m_call_impl\u001b[0;34m(self, *input, **kwargs)\u001b[0m\n\u001b[1;32m   1100\u001b[0m         if not (self._backward_hooks or self._forward_hooks or self._forward_pre_hooks or _global_backward_hooks\n\u001b[1;32m   1101\u001b[0m                 or _global_forward_hooks or _global_forward_pre_hooks):\n\u001b[0;32m-> 1102\u001b[0;31m             \u001b[0;32mreturn\u001b[0m \u001b[0mforward_call\u001b[0m\u001b[0;34m(\u001b[0m\u001b[0;34m*\u001b[0m\u001b[0minput\u001b[0m\u001b[0;34m,\u001b[0m \u001b[0;34m**\u001b[0m\u001b[0mkwargs\u001b[0m\u001b[0;34m)\u001b[0m\u001b[0;34m\u001b[0m\u001b[0;34m\u001b[0m\u001b[0m\n\u001b[0m\u001b[1;32m   1103\u001b[0m         \u001b[0;31m# Do not call functions when jit is used\u001b[0m\u001b[0;34m\u001b[0m\u001b[0;34m\u001b[0m\u001b[0;34m\u001b[0m\u001b[0m\n\u001b[1;32m   1104\u001b[0m         \u001b[0mfull_backward_hooks\u001b[0m\u001b[0;34m,\u001b[0m \u001b[0mnon_full_backward_hooks\u001b[0m \u001b[0;34m=\u001b[0m \u001b[0;34m[\u001b[0m\u001b[0;34m]\u001b[0m\u001b[0;34m,\u001b[0m \u001b[0;34m[\u001b[0m\u001b[0;34m]\u001b[0m\u001b[0;34m\u001b[0m\u001b[0;34m\u001b[0m\u001b[0m\n",
            "\u001b[0;32m/usr/local/lib/python3.7/dist-packages/torch/nn/modules/conv.py\u001b[0m in \u001b[0;36mforward\u001b[0;34m(self, input)\u001b[0m\n\u001b[1;32m    444\u001b[0m \u001b[0;34m\u001b[0m\u001b[0m\n\u001b[1;32m    445\u001b[0m     \u001b[0;32mdef\u001b[0m \u001b[0mforward\u001b[0m\u001b[0;34m(\u001b[0m\u001b[0mself\u001b[0m\u001b[0;34m,\u001b[0m \u001b[0minput\u001b[0m\u001b[0;34m:\u001b[0m \u001b[0mTensor\u001b[0m\u001b[0;34m)\u001b[0m \u001b[0;34m->\u001b[0m \u001b[0mTensor\u001b[0m\u001b[0;34m:\u001b[0m\u001b[0;34m\u001b[0m\u001b[0;34m\u001b[0m\u001b[0m\n\u001b[0;32m--> 446\u001b[0;31m         \u001b[0;32mreturn\u001b[0m \u001b[0mself\u001b[0m\u001b[0;34m.\u001b[0m\u001b[0m_conv_forward\u001b[0m\u001b[0;34m(\u001b[0m\u001b[0minput\u001b[0m\u001b[0;34m,\u001b[0m \u001b[0mself\u001b[0m\u001b[0;34m.\u001b[0m\u001b[0mweight\u001b[0m\u001b[0;34m,\u001b[0m \u001b[0mself\u001b[0m\u001b[0;34m.\u001b[0m\u001b[0mbias\u001b[0m\u001b[0;34m)\u001b[0m\u001b[0;34m\u001b[0m\u001b[0;34m\u001b[0m\u001b[0m\n\u001b[0m\u001b[1;32m    447\u001b[0m \u001b[0;34m\u001b[0m\u001b[0m\n\u001b[1;32m    448\u001b[0m \u001b[0;32mclass\u001b[0m \u001b[0mConv3d\u001b[0m\u001b[0;34m(\u001b[0m\u001b[0m_ConvNd\u001b[0m\u001b[0;34m)\u001b[0m\u001b[0;34m:\u001b[0m\u001b[0;34m\u001b[0m\u001b[0;34m\u001b[0m\u001b[0m\n",
            "\u001b[0;32m/usr/local/lib/python3.7/dist-packages/torch/nn/modules/conv.py\u001b[0m in \u001b[0;36m_conv_forward\u001b[0;34m(self, input, weight, bias)\u001b[0m\n\u001b[1;32m    441\u001b[0m                             _pair(0), self.dilation, self.groups)\n\u001b[1;32m    442\u001b[0m         return F.conv2d(input, weight, bias, self.stride,\n\u001b[0;32m--> 443\u001b[0;31m                         self.padding, self.dilation, self.groups)\n\u001b[0m\u001b[1;32m    444\u001b[0m \u001b[0;34m\u001b[0m\u001b[0m\n\u001b[1;32m    445\u001b[0m     \u001b[0;32mdef\u001b[0m \u001b[0mforward\u001b[0m\u001b[0;34m(\u001b[0m\u001b[0mself\u001b[0m\u001b[0;34m,\u001b[0m \u001b[0minput\u001b[0m\u001b[0;34m:\u001b[0m \u001b[0mTensor\u001b[0m\u001b[0;34m)\u001b[0m \u001b[0;34m->\u001b[0m \u001b[0mTensor\u001b[0m\u001b[0;34m:\u001b[0m\u001b[0;34m\u001b[0m\u001b[0;34m\u001b[0m\u001b[0m\n",
            "\u001b[0;31mTypeError\u001b[0m: conv2d() received an invalid combination of arguments - got (numpy.ndarray, Parameter, Parameter, tuple, tuple, tuple, int), but expected one of:\n * (Tensor input, Tensor weight, Tensor bias, tuple of ints stride, tuple of ints padding, tuple of ints dilation, int groups)\n      didn't match because some of the arguments have invalid types: (!numpy.ndarray!, !Parameter!, !Parameter!, !tuple!, !tuple!, !tuple!, int)\n * (Tensor input, Tensor weight, Tensor bias, tuple of ints stride, str padding, tuple of ints dilation, int groups)\n      didn't match because some of the arguments have invalid types: (!numpy.ndarray!, !Parameter!, !Parameter!, !tuple!, !tuple!, !tuple!, int)\n"
          ]
        }
      ]
    }
  ]
}
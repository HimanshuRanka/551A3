{
 "cells": [
  {
   "cell_type": "markdown",
   "metadata": {
    "collapsed": true,
    "pycharm": {
     "name": "#%% md\n"
    }
   },
   "source": [
    "Build CNN:\n",
    "- import libraries\n",
    "- Load and normalize data\n",
    "- OHEC data\n",
    "- Split data into training and test\n",
    "- Build CNN class with layers\n",
    "- Evaluate model\n",
    "- Tune hyper params\n",
    "- Improve model and see what can be done better\n"
   ]
  },
  {
   "cell_type": "markdown",
   "source": [
    "The basic steps to build an image classification model using a neural network are:\n",
    "\n",
    "- Flatten the input image dimensions to 1D (width pixels x height pixels)\n",
    "- Normalize the image pixel values (divide by 255)\n",
    "- One-Hot Encode the categorical column\n",
    "- Build a model architecture (Sequential) with Dense layers\n",
    "- Train the model and make predictions"
   ],
   "metadata": {
    "collapsed": false
   }
  },
  {
   "cell_type": "code",
   "execution_count": 3,
   "outputs": [],
   "source": [
    "import pickle as pkl\n",
    "import numpy as np\n",
    "import argparse\n",
    "\n",
    "import torch\n",
    "import torch.nn as nn\n",
    "import torch.nn.functional as F\n",
    "import torch.optim as optim\n",
    "from torchvision import datasets, transforms\n",
    "\n",
    "from torch.utils.data import Dataset\n",
    "from torch.utils.data import DataLoader"
   ],
   "metadata": {
    "collapsed": false,
    "pycharm": {
     "name": "#%%\n"
    }
   }
  },
  {
   "cell_type": "code",
   "execution_count": 4,
   "outputs": [],
   "source": [
    "class ConfigureDataset(Dataset):\n",
    "    def __init__(self, X_Train, Y_Train, transform=None):\n",
    "        self.X_Train = X_Train\n",
    "        self.Y_Train = Y_Train\n",
    "        self.transform = transform\n",
    "\n",
    "    def __len__(self):\n",
    "        return len(self.X_Train)\n",
    "\n",
    "    def __getitem__(self, idx):\n",
    "        x = self.X_Train[idx]\n",
    "        y = self.Y_Train[idx]\n",
    "\n",
    "        if self.transform:\n",
    "            x = self.transform(x)\n",
    "\n",
    "        return x, y"
   ],
   "metadata": {
    "collapsed": false,
    "pycharm": {
     "name": "#%%\n"
    }
   }
  },
  {
   "cell_type": "code",
   "execution_count": 5,
   "outputs": [],
   "source": [
    "# converts labels from an array of 36 to a value between 0 nd 259\n",
    "def convert_label(label):\n",
    "    numl = label[:10]\n",
    "    letter = label[10:]\n",
    "    return 26 * np.where(numl == 1)[0][0] + np.where(letter == 1)[0][0]\n"
   ],
   "metadata": {
    "collapsed": false,
    "pycharm": {
     "name": "#%%\n"
    }
   }
  },
  {
   "cell_type": "code",
   "execution_count": 6,
   "outputs": [
    {
     "name": "stdout",
     "output_type": "stream",
     "text": [
      "[[0. 0. 0. 0. 0. 0. 0. 0. 0. 1. 0. 0. 0. 0. 1. 0. 0. 0. 0. 0. 0. 0. 0. 0.\n",
      "  0. 0. 0. 0. 0. 0. 0. 0. 0. 0. 0. 0.]\n",
      " [0. 0. 0. 0. 0. 1. 0. 0. 0. 0. 0. 0. 0. 0. 0. 0. 0. 0. 0. 0. 0. 0. 0. 0.\n",
      "  0. 0. 1. 0. 0. 0. 0. 0. 0. 0. 0. 0.]\n",
      " [0. 0. 0. 0. 0. 0. 0. 0. 1. 0. 0. 0. 0. 0. 0. 0. 0. 0. 1. 0. 0. 0. 0. 0.\n",
      "  0. 0. 0. 0. 0. 0. 0. 0. 0. 0. 0. 0.]\n",
      " [0. 0. 0. 0. 0. 1. 0. 0. 0. 0. 0. 1. 0. 0. 0. 0. 0. 0. 0. 0. 0. 0. 0. 0.\n",
      "  0. 0. 0. 0. 0. 0. 0. 0. 0. 0. 0. 0.]\n",
      " [0. 0. 0. 0. 1. 0. 0. 0. 0. 0. 0. 0. 0. 0. 0. 0. 0. 0. 0. 0. 0. 0. 0. 0.\n",
      "  0. 0. 0. 0. 0. 0. 1. 0. 0. 0. 0. 0.]\n",
      " [0. 0. 0. 0. 0. 1. 0. 0. 0. 0. 0. 0. 0. 0. 0. 0. 0. 0. 0. 0. 0. 0. 1. 0.\n",
      "  0. 0. 0. 0. 0. 0. 0. 0. 0. 0. 0. 0.]\n",
      " [0. 0. 0. 0. 0. 0. 1. 0. 0. 0. 0. 0. 0. 0. 0. 0. 1. 0. 0. 0. 0. 0. 0. 0.\n",
      "  0. 0. 0. 0. 0. 0. 0. 0. 0. 0. 0. 0.]\n",
      " [0. 0. 0. 0. 0. 0. 0. 0. 1. 0. 0. 0. 0. 0. 0. 0. 0. 0. 0. 0. 0. 0. 0. 0.\n",
      "  0. 0. 0. 0. 0. 0. 1. 0. 0. 0. 0. 0.]\n",
      " [0. 0. 0. 0. 1. 0. 0. 0. 0. 0. 0. 0. 0. 0. 0. 0. 0. 0. 0. 0. 0. 0. 0. 0.\n",
      "  0. 0. 1. 0. 0. 0. 0. 0. 0. 0. 0. 0.]\n",
      " [1. 0. 0. 0. 0. 0. 0. 0. 0. 0. 0. 0. 1. 0. 0. 0. 0. 0. 0. 0. 0. 0. 0. 0.\n",
      "  0. 0. 0. 0. 0. 0. 0. 0. 0. 0. 0. 0.]]\n",
      "[238, 146, 216, 131, 124, 142, 162, 228, 120, 2]\n"
     ]
    }
   ],
   "source": [
    "file = open('../data/images_l.pkl', 'rb')\n",
    "X_data = pkl.load(file)\n",
    "file.close()\n",
    "\n",
    "file = open('../data/labels_l.pkl', 'rb')\n",
    "Y_data = pkl.load(file)\n",
    "file.close()\n",
    "\n",
    "Y_data_2 = []\n",
    "print(Y_data[:10])\n",
    "for idx in range(len(Y_data)):\n",
    "    Y_data_2.append(convert_label(Y_data[idx]))\n",
    "print(Y_data_2[:10])\n",
    "\n",
    "X_train = X_data[:25000]\n",
    "Y_train = Y_data_2[:25000]\n",
    "\n",
    "X_test = X_data[25000:]\n",
    "Y_test = Y_data_2[25000:]"
   ],
   "metadata": {
    "collapsed": false,
    "pycharm": {
     "name": "#%%\n"
    }
   }
  },
  {
   "cell_type": "code",
   "execution_count": 69,
   "outputs": [
    {
     "name": "stdout",
     "output_type": "stream",
     "text": [
      "(25000, 56, 56)\n",
      "25000\n"
     ]
    }
   ],
   "source": [
    "print(X_train.shape)\n",
    "print(len(Y_train))\n"
   ],
   "metadata": {
    "collapsed": false,
    "pycharm": {
     "name": "#%%\n"
    }
   }
  },
  {
   "cell_type": "code",
   "execution_count": 13,
   "outputs": [],
   "source": [
    "train_set = ConfigureDataset(X_train, Y_train, transform=transforms.Compose([transforms.ToTensor(),\n",
    "                                                                             transforms.Normalize(0.5, 0.5)]))\n",
    "train_loader = DataLoader(train_set, batch_size=64, shuffle=True)\n",
    "\n",
    "test_set = ConfigureDataset(X_test, Y_test, transform=transforms.Compose([transforms.ToTensor()]))\n",
    "test_loader = DataLoader(test_set, batch_size=64, shuffle=True)"
   ],
   "metadata": {
    "collapsed": false,
    "pycharm": {
     "name": "#%%\n"
    }
   }
  },
  {
   "cell_type": "code",
   "execution_count": 7,
   "outputs": [
    {
     "name": "stderr",
     "output_type": "stream",
     "text": [
      "Clipping input data to the valid range for imshow with RGB data ([0..1] for floats or [0..255] for integers).\n"
     ]
    },
    {
     "data": {
      "text/plain": "<Figure size 432x288 with 1 Axes>",
      "image/png": "[encoded data removed]"
     },
     "metadata": {
      "needs_background": "light"
     },
     "output_type": "display_data"
    },
    {
     "name": "stdout",
     "output_type": "stream",
     "text": [
      "number: [4], letter: [25]\n",
      "number: [5], letter: [5]\n",
      "number: [3], letter: [3]\n",
      "number: [3], letter: [17]\n",
      "number: [0], letter: [1]\n",
      "number: [9], letter: [2]\n",
      "number: [3], letter: [24]\n",
      "number: [7], letter: [19]\n",
      " None  None  None  None  None  None  None  None\n"
     ]
    }
   ],
   "source": [
    "import matplotlib.pyplot as plt\n",
    "import torchvision\n",
    "# functions to show an image\n",
    "def imshow(img):\n",
    "    npimg = img.numpy()\n",
    "    plt.imshow(np.transpose(npimg, (1, 2, 0)))\n",
    "    plt.show()\n",
    "\n",
    "# get some random training images\n",
    "dataiter = iter(train_loader)\n",
    "images, labels = next(dataiter)\n",
    "# print(images)\n",
    "# print(labels)\n",
    "# show images\n",
    "imshow(torchvision.utils.make_grid(images))\n",
    "# print labels\n",
    "print(' '.join('%5s' % convert_label(labels[j]) for j in range(8)))"
   ],
   "metadata": {
    "collapsed": false,
    "pycharm": {
     "name": "#%%\n"
    }
   }
  },
  {
   "cell_type": "code",
   "execution_count": 14,
   "outputs": [],
   "source": [
    "# Define a convolutional neural network\n",
    "\n",
    "class Net(nn.Module):\n",
    "    def __init__(self):\n",
    "        super(Net, self).__init__()\n",
    "        self.conv1 = nn.Conv2d(1, 128, 3)\n",
    "        self.pool = nn.MaxPool2d(2, 2)\n",
    "        self.conv2 = nn.Conv2d(128, 256, 3, padding=2)\n",
    "        self.conv3 = nn.Conv2d(256, 256, 3, padding=2)\n",
    "        self.fc1 = nn.Linear(256 * 8 * 8, 2048)\n",
    "        self.fc2 = nn.Linear(2048, 2048)\n",
    "        self.fc3 = nn.Linear(2048, 260)\n",
    "\n",
    "    def forward(self, x):\n",
    "        x = self.pool(F.relu(self.conv1(x)))\n",
    "        x = self.pool(F.relu(self.conv2(x)))\n",
    "        x = self.pool(F.relu(self.conv3(x)))\n",
    "        x = x.view(-1, 256 * 8 * 8)\n",
    "        x = F.relu(self.fc1(x))\n",
    "        x = F.relu(self.fc2(x))\n",
    "        x = self.fc3(x)\n",
    "        return x\n",
    "\n",
    "net = Net()"
   ],
   "metadata": {
    "collapsed": false,
    "pycharm": {
     "name": "#%%\n"
    }
   }
  },
  {
   "cell_type": "code",
   "execution_count": 9,
   "outputs": [],
   "source": [
    "# Define a loss function and optimizer\n",
    "\n",
    "criterion = nn.CrossEntropyLoss()\n",
    "optimizer = optim.SGD(net.parameters(), lr=0.001, momentum=0.9)\n"
   ],
   "metadata": {
    "collapsed": false,
    "pycharm": {
     "name": "#%%\n"
    }
   }
  },
  {
   "cell_type": "code",
   "execution_count": 36,
   "outputs": [],
   "source": [
    "# test one set of images\n",
    "# images and lables from image print cell\n",
    "# zero the parameter gradients\n",
    "optimizer.zero_grad()\n",
    "\n",
    "# forward + backward + optimize\n",
    "outputs = net(images.float())\n",
    "loss = criterion(outputs, labels)\n",
    "loss.backward()\n",
    "optimizer.step()\n",
    "\n",
    "_, predicted = torch.topk(outputs.data, 2)\n"
   ],
   "metadata": {
    "collapsed": false,
    "pycharm": {
     "name": "#%%\n"
    }
   }
  },
  {
   "cell_type": "code",
   "execution_count": 46,
   "outputs": [
    {
     "name": "stdout",
     "output_type": "stream",
     "text": [
      "tensor(3.5190, dtype=torch.float64, grad_fn=<DivBackward1>)\n",
      "torch.return_types.max(\n",
      "values=tensor([2.3293, 5.6581, 6.4258, 2.6210, 4.2366, 3.0611, 3.0667, 2.9228]),\n",
      "indices=tensor([ 5,  8,  8,  4, 31,  7,  0,  7]))\n",
      "torch.return_types.topk(\n",
      "values=tensor([[2.3293, 2.3192],\n",
      "        [5.6581, 5.5926],\n",
      "        [6.4258, 6.1399],\n",
      "        [2.6210, 2.4904],\n",
      "        [4.2366, 3.8212],\n",
      "        [3.0611, 2.9145],\n",
      "        [3.0667, 1.9962],\n",
      "        [2.9228, 2.5889]]),\n",
      "indices=tensor([[ 5,  8],\n",
      "        [ 8,  0],\n",
      "        [ 8,  0],\n",
      "        [ 4, 17],\n",
      "        [31,  4],\n",
      "        [ 7,  9],\n",
      "        [ 0,  8],\n",
      "        [ 7,  4]]))\n",
      "tensor([ 5,  8,  8,  4, 31,  7,  0,  7])\n"
     ]
    }
   ],
   "source": [
    "print(loss)\n",
    "print(torch.max(outputs.data, 1))\n",
    "print(torch.topk(outputs.data, 2))\n",
    "print(predicted)\n"
   ],
   "metadata": {
    "collapsed": false,
    "pycharm": {
     "name": "#%%\n"
    }
   }
  },
  {
   "cell_type": "code",
   "execution_count": null,
   "outputs": [],
   "source": [
    "# Train the network\n",
    "\n",
    "for epoch in range(5):  # loop over the dataset multiple times\n",
    "    net = net.float()\n",
    "    running_loss = 0.0\n",
    "    for i, data in enumerate(train_loader, 0):\n",
    "        # get the inputs; data is a list of [inputs, labels]\n",
    "        inputs, labels = data\n",
    "        # zero the parameter gradients\n",
    "        optimizer.zero_grad()\n",
    "\n",
    "        # forward + backward + optimize\n",
    "        outputs = net(inputs.float())\n",
    "        loss = criterion(outputs, labels)\n",
    "        loss.backward()\n",
    "        optimizer.step()\n",
    "\n",
    "        # print statistics\n",
    "        running_loss += loss.item()\n",
    "        if i % 5000 == 4999:    # print every 5000 mini-batches\n",
    "            print('[%d, %5d] loss: %.3f' %\n",
    "                  (epoch + 1, i + 1, running_loss / 2000))\n",
    "            running_loss = 0.0\n",
    "\n",
    "print('Finished Training')"
   ],
   "metadata": {
    "collapsed": false,
    "pycharm": {
     "name": "#%%\n",
     "is_executing": true
    }
   }
  },
  {
   "cell_type": "code",
   "execution_count": 11,
   "outputs": [
    {
     "name": "stdout",
     "output_type": "stream",
     "text": [
      "[Parameter containing:\n",
      "tensor([[[[-0.1041, -0.2589, -0.3449, -0.1564, -0.0764],\n",
      "          [-0.1987, -0.0729, -0.1768, -0.1453, -0.2477],\n",
      "          [-0.0254, -0.0415, -0.0135, -0.1699, -0.3293],\n",
      "          [-0.0009,  0.1837,  0.1325, -0.0269, -0.2445],\n",
      "          [ 0.0699,  0.1854,  0.1745,  0.1132, -0.1639]]],\n",
      "\n",
      "\n",
      "        [[[ 0.0072,  0.1607,  0.1643,  0.0345,  0.0487],\n",
      "          [ 0.0907,  0.2400,  0.1043, -0.0154, -0.0408],\n",
      "          [ 0.0684,  0.1362,  0.0477,  0.0531, -0.0303],\n",
      "          [-0.0637, -0.0224,  0.0036, -0.0290, -0.0133],\n",
      "          [-0.1964, -0.1545, -0.0531,  0.0551, -0.0775]]],\n",
      "\n",
      "\n",
      "        [[[ 0.1112,  0.0708, -0.0189, -0.4047, -0.5353],\n",
      "          [ 0.0853,  0.0862,  0.1842, -0.4834,  0.1041],\n",
      "          [ 0.0402,  0.0493,  0.0432, -0.4070, -0.1335],\n",
      "          [-0.1735, -0.1003, -0.2647, -0.0349, -0.0328],\n",
      "          [-0.4199, -0.1999, -0.1041, -0.0571, -0.0238]]],\n",
      "\n",
      "\n",
      "        [[[-0.1481, -0.1955, -0.1532,  0.0662, -0.1958],\n",
      "          [-0.0025, -0.1958, -0.0381, -0.0797,  0.0393],\n",
      "          [-0.0598, -0.1714, -0.3092,  0.1071,  0.0644],\n",
      "          [-0.0101, -0.1324, -0.0414,  0.0750,  0.1244],\n",
      "          [-0.0272, -0.2994, -0.3184, -0.0528,  0.1859]]],\n",
      "\n",
      "\n",
      "        [[[-0.0822,  0.0676,  0.1438,  0.1278,  0.0951],\n",
      "          [-0.2443,  0.0554,  0.0768, -0.0967, -0.1941],\n",
      "          [-0.5150, -0.3567, -0.4167, -0.4033, -0.3165],\n",
      "          [-0.0439, -0.1670, -0.1592,  0.0292,  0.0049],\n",
      "          [ 0.0936,  0.1683,  0.1051,  0.1528,  0.1328]]],\n",
      "\n",
      "\n",
      "        [[[-0.0709,  0.0864, -0.2139, -0.1167,  0.0192],\n",
      "          [-0.0429, -0.3114,  0.3156, -0.1801,  0.0484],\n",
      "          [-0.1506,  0.2305, -0.2638,  0.0747, -0.1421],\n",
      "          [-0.0262,  0.1241, -0.2242,  0.0624,  0.0759],\n",
      "          [-0.1768, -0.1681,  0.1314, -0.1396, -0.0856]]]], requires_grad=True), Parameter containing:\n",
      "tensor([-0.1790,  0.1424, -0.0026, -0.2105, -0.3370, -0.0088],\n",
      "       requires_grad=True), Parameter containing:\n",
      "tensor([[[[-3.1295e-01, -3.2931e-02, -7.7192e-03, -4.7323e-02,  1.4344e-02],\n",
      "          [-1.3518e-01,  2.0129e-02, -6.7374e-02, -2.0925e-03,  5.4740e-02],\n",
      "          [-1.2923e-01, -1.6778e-02, -8.0267e-02, -1.8150e-02,  1.1543e-02],\n",
      "          [-1.1151e-01, -1.0690e-01,  2.9660e-03, -3.7962e-02, -1.1919e-01],\n",
      "          [-2.0189e-01, -6.8497e-02,  2.0389e-02,  3.7496e-02,  1.6680e-01]],\n",
      "\n",
      "         [[ 2.2129e-01, -2.1277e-02, -2.2694e-01, -9.5727e-02, -1.5040e-01],\n",
      "          [ 2.1378e-01, -2.8879e-01, -7.9774e-02, -3.1452e-02, -1.1081e-01],\n",
      "          [ 2.5801e-02, -9.8740e-02, -6.8293e-02, -1.2575e-01, -1.4009e-01],\n",
      "          [-4.9131e-02, -1.0875e-01, -8.8017e-02, -1.2245e-01,  4.9221e-02],\n",
      "          [ 2.1807e-02, -7.0751e-02, -1.3572e-01, -1.0922e-01, -1.6301e-01]],\n",
      "\n",
      "         [[-9.3468e-02,  2.2585e-01,  4.9530e-03,  8.7444e-03, -6.9263e-02],\n",
      "          [ 1.1196e-01, -7.9636e-02,  6.5880e-02, -1.2945e-02,  5.6082e-02],\n",
      "          [ 2.1074e-01, -1.1513e-01, -1.7470e-02,  4.8327e-02, -1.3208e-02],\n",
      "          [-1.5573e-02,  6.1330e-02,  8.1135e-02, -4.6377e-02, -1.1372e-01],\n",
      "          [-1.2957e-02, -4.9702e-02,  2.1040e-02,  7.9004e-02, -6.3576e-02]],\n",
      "\n",
      "         [[-2.6061e-03,  9.1545e-02,  4.7283e-03, -4.0581e-02, -1.5772e-01],\n",
      "          [ 9.9946e-03, -1.1365e-02,  3.4614e-03,  1.8015e-02, -1.7337e-02],\n",
      "          [ 8.2573e-02, -4.6135e-02, -1.6187e-02,  1.0280e-01,  2.7578e-01],\n",
      "          [ 1.3727e-02, -1.2983e-02, -1.1074e-01, -6.1415e-02, -7.3592e-02],\n",
      "          [ 2.9775e-02,  1.5353e-01, -4.1103e-02, -1.0365e-01, -2.0166e-01]],\n",
      "\n",
      "         [[-2.9498e-01, -1.2645e-01, -5.8744e-02, -8.5173e-03, -8.8254e-02],\n",
      "          [-3.4198e-01, -1.3599e-01, -3.2177e-02, -2.8457e-02,  2.7428e-02],\n",
      "          [-2.9237e-01, -2.3888e-02, -7.5511e-03, -8.1202e-02,  9.5190e-03],\n",
      "          [-2.5338e-01, -2.3216e-02, -6.3238e-02, -5.3797e-02, -1.7218e-01],\n",
      "          [-1.2232e-01, -7.9814e-02, -4.6423e-02,  7.3972e-02,  1.9032e-01]],\n",
      "\n",
      "         [[-4.6411e-02,  5.1880e-02,  8.1484e-02,  4.7336e-02,  4.3625e-02],\n",
      "          [-4.8200e-02,  6.0317e-02,  4.8050e-02,  1.0351e-01,  2.6377e-02],\n",
      "          [ 2.4978e-02,  9.0263e-02,  7.6661e-02,  3.3557e-02, -1.7479e-01],\n",
      "          [ 9.8763e-03,  1.4059e-01,  4.4920e-02, -9.5698e-03, -1.0502e-01],\n",
      "          [ 4.1277e-02,  2.0604e-02, -8.8858e-02, -1.0646e-01, -1.0648e-01]]],\n",
      "\n",
      "\n",
      "        [[[-3.4426e-02,  2.4850e-01,  1.2559e-01, -7.4185e-02,  2.2440e-01],\n",
      "          [-6.2731e-02,  1.0390e-01,  2.4789e-01,  2.8104e-02, -2.3406e-01],\n",
      "          [-8.5679e-03, -1.3558e-01, -8.8679e-02, -5.8059e-02,  2.5132e-02],\n",
      "          [ 1.3161e-02,  1.3606e-01,  1.9218e-02, -6.9823e-02, -1.2608e-01],\n",
      "          [-1.2334e-02,  3.3397e-03,  2.1492e-02, -1.7763e-01, -2.7026e-01]],\n",
      "\n",
      "         [[-9.3594e-02, -2.1650e-01, -8.1313e-02,  1.0203e-01,  2.5411e-01],\n",
      "          [-2.2835e-03,  7.3332e-02, -1.4487e-02, -2.8598e-01, -3.1168e-01],\n",
      "          [-1.5484e-01, -1.2674e-01, -3.5959e-01, -1.8891e-01, -3.0114e-02],\n",
      "          [-1.9886e-01, -2.3659e-01,  9.2514e-02,  1.8023e-01,  3.2332e-01],\n",
      "          [-2.1493e-01, -3.0405e-01, -2.1380e-01, -3.0681e-01, -1.2724e-01]],\n",
      "\n",
      "         [[ 1.3163e-02,  5.9189e-02, -3.8694e-02, -1.0892e-01, -4.5962e-01],\n",
      "          [-2.3671e-02, -4.0667e-02,  5.2585e-03,  6.0301e-02, -6.5613e-02],\n",
      "          [ 3.6255e-02,  5.2842e-02, -1.5105e-01, -1.2004e-01, -1.8835e-01],\n",
      "          [ 1.5657e-01, -4.8243e-02, -1.9085e-01, -2.8831e-01, -4.8982e-01],\n",
      "          [ 1.0303e-01,  7.8252e-03, -4.0613e-02, -7.4673e-02, -8.1495e-02]],\n",
      "\n",
      "         [[ 2.9497e-02, -1.6868e-01, -3.7150e-01, -2.5630e-01, -1.5699e-01],\n",
      "          [-1.2204e-02, -8.3803e-02, -2.0943e-01, -3.2994e-01, -1.5868e-03],\n",
      "          [ 1.7509e-02,  4.0420e-01,  4.8956e-01,  3.3956e-02, -3.0324e-01],\n",
      "          [-1.7868e-01, -7.6693e-02, -2.1286e-01, -2.5610e-01, -1.4183e-01],\n",
      "          [-1.4674e-01, -3.3150e-01, -1.5692e-01, -4.0215e-02,  1.9336e-01]],\n",
      "\n",
      "         [[ 8.0267e-03,  1.0470e-02,  1.5840e-02,  1.0103e-01, -1.8702e-01],\n",
      "          [-9.3585e-02,  1.2967e-01,  2.0137e-01,  1.8851e-01, -2.8280e-02],\n",
      "          [-1.1436e-01, -3.6524e-02, -5.3481e-02,  1.3897e-01, -1.1038e-02],\n",
      "          [-1.1296e-01, -1.5403e-01,  3.9017e-02,  2.4307e-01, -6.8601e-02],\n",
      "          [-1.2676e-01,  2.9393e-02,  3.0273e-01,  1.7873e-01, -1.4127e-01]],\n",
      "\n",
      "         [[ 1.6836e-02, -7.6605e-02, -1.1925e-02, -5.2125e-02, -4.7806e-02],\n",
      "          [-9.7849e-03, -1.2671e-01, -6.1810e-02, -7.2384e-02, -2.8200e-02],\n",
      "          [ 7.8888e-02,  4.8176e-02,  2.6375e-02, -2.6455e-01, -1.6027e-01],\n",
      "          [ 1.4126e-01,  1.5954e-01, -1.6602e-01, -2.7631e-01, -1.9748e-01],\n",
      "          [ 2.8675e-02,  1.4854e-01,  1.2310e-02, -4.7428e-02, -4.0136e-02]]],\n",
      "\n",
      "\n",
      "        [[[-4.6420e-02, -1.9745e-03,  3.4757e-02, -7.1591e-02, -7.0652e-02],\n",
      "          [-3.5580e-02,  2.9250e-02, -7.0606e-02,  6.8956e-03, -7.6143e-02],\n",
      "          [-4.0542e-02,  7.2863e-02, -6.9346e-02,  5.7979e-02, -6.1633e-03],\n",
      "          [-7.0550e-02,  1.6807e-02, -4.8033e-02, -3.0418e-02,  6.0453e-02],\n",
      "          [-1.2748e-01,  2.6550e-01, -1.0222e-01, -1.4943e-01,  5.0869e-02]],\n",
      "\n",
      "         [[-5.7444e-02, -1.2464e-01, -1.3742e-02, -8.4834e-02, -6.3323e-02],\n",
      "          [-3.8725e-02,  4.9437e-03, -7.1077e-02, -6.4682e-03,  1.0265e-02],\n",
      "          [ 3.4830e-02, -1.4028e-02,  6.1161e-04,  5.2099e-02, -1.6914e-02],\n",
      "          [ 5.4183e-02, -8.5566e-03, -7.2895e-02, -7.1857e-02, -3.8070e-02],\n",
      "          [-1.0328e-01, -3.4843e-02, -1.1829e-01, -1.1313e-01, -1.0430e-01]],\n",
      "\n",
      "         [[-9.7512e-02,  2.7210e-02, -5.2154e-02, -3.3786e-02, -3.4006e-02],\n",
      "          [-3.5319e-02,  5.7421e-02, -1.7680e-02,  1.0405e-01, -2.7353e-03],\n",
      "          [ 6.4486e-02, -3.5601e-03, -6.8221e-02, -5.7769e-02, -4.8675e-02],\n",
      "          [-8.8326e-02,  4.9479e-02, -1.0048e-01,  5.5477e-02,  1.9611e-02],\n",
      "          [-8.9449e-02, -1.1940e-01,  4.7383e-02, -4.2896e-02, -1.3251e-01]],\n",
      "\n",
      "         [[-3.1760e-02, -2.9944e-02,  3.6503e-02, -8.5900e-02, -8.5158e-02],\n",
      "          [-5.4310e-02,  1.3855e-02,  3.2788e-02, -4.4110e-02, -1.2071e-01],\n",
      "          [ 5.3991e-03,  3.8468e-02,  2.2846e-02,  9.2557e-03,  2.7072e-02],\n",
      "          [ 9.2778e-02, -1.2096e-01,  2.1652e-02,  2.7883e-02,  2.8329e-02],\n",
      "          [ 2.5908e-01, -1.5819e-01,  1.0296e-01,  2.1645e-01, -3.3409e-02]],\n",
      "\n",
      "         [[-3.8000e-03, -2.0787e-02, -3.3884e-03, -4.6755e-02, -2.6944e-02],\n",
      "          [-1.6461e-02, -5.2598e-02, -5.9147e-03, -2.1625e-02, -5.5400e-02],\n",
      "          [-6.4412e-02,  7.7529e-02, -5.9691e-02, -1.0523e-02,  1.9292e-02],\n",
      "          [-4.2736e-02, -3.1204e-02, -3.7043e-02, -1.0324e-01, -6.0678e-02],\n",
      "          [ 6.8573e-02, -9.9160e-02, -3.5147e-02, -4.3969e-02, -1.1814e-01]],\n",
      "\n",
      "         [[-7.6840e-02,  1.3541e-02, -8.0160e-02,  3.5132e-02,  6.0625e-02],\n",
      "          [ 5.5937e-02, -7.8857e-02,  4.6997e-02,  3.2122e-02,  2.8672e-02],\n",
      "          [ 2.4812e-02, -2.4330e-02,  5.2966e-02,  2.0581e-02, -3.3671e-02],\n",
      "          [-7.8649e-02,  4.3840e-03, -1.3630e-02, -2.6255e-02,  3.2486e-03],\n",
      "          [-4.7275e-02, -2.0322e-01, -2.3426e-02, -1.3817e-01, -8.1948e-02]]],\n",
      "\n",
      "\n",
      "        ...,\n",
      "\n",
      "\n",
      "        [[[-2.1065e-02, -3.9015e-02, -1.5819e-02,  1.7366e-03, -1.7276e-01],\n",
      "          [-5.2645e-02, -4.6190e-02,  3.6910e-02, -1.5734e-01, -3.3481e-01],\n",
      "          [ 1.6313e-02, -7.4473e-02,  1.4588e-02, -1.3691e-01, -4.2067e-01],\n",
      "          [-1.9768e-02, -2.9824e-02, -2.0056e-01, -1.3020e-01, -3.5812e-01],\n",
      "          [-1.1984e-02, -1.5633e-01, -1.8627e-01, -1.3300e-01,  1.0025e-01]],\n",
      "\n",
      "         [[-5.7182e-02, -8.9298e-02, -1.1865e-01, -2.7517e-01, -5.1772e-01],\n",
      "          [-2.7162e-02,  3.1502e-02,  1.4921e-02, -1.5055e-01, -2.8067e-01],\n",
      "          [-5.1500e-02, -6.4158e-02, -6.8388e-02, -2.7593e-01,  7.3299e-02],\n",
      "          [-3.3805e-02, -1.7298e-02, -2.0050e-02, -5.0336e-02,  3.5965e-01],\n",
      "          [-1.2445e-01, -7.7418e-02, -2.3483e-01, -2.5335e-01, -5.0295e-03]],\n",
      "\n",
      "         [[-1.6061e-03,  6.8462e-02, -1.7008e-02,  6.2474e-02,  4.8569e-02],\n",
      "          [ 2.1967e-03, -4.8858e-02,  1.1390e-01,  1.3324e-01, -1.0883e-01],\n",
      "          [ 2.7988e-02, -5.2868e-02, -4.2845e-02, -5.0007e-02, -1.3448e-01],\n",
      "          [ 5.3179e-02,  2.8301e-02,  7.8254e-02, -5.6421e-02, -5.7398e-03],\n",
      "          [ 2.0515e-02,  5.3656e-02,  7.5672e-02, -1.0435e-01, -4.0489e-01]],\n",
      "\n",
      "         [[-1.8644e-01, -7.9202e-02,  1.1325e-02,  1.5098e-01, -7.7500e-02],\n",
      "          [-3.3298e-02, -3.3667e-02, -9.8846e-02,  6.9656e-02,  4.7709e-02],\n",
      "          [-1.0943e-01, -7.7200e-03, -3.0033e-02,  1.1152e-01, -1.8099e-01],\n",
      "          [-6.2364e-02,  3.7771e-02,  1.0882e-01,  2.5329e-02, -4.0622e-02],\n",
      "          [-5.8268e-03,  1.9400e-01,  1.2196e-01,  2.7947e-01,  1.0465e-01]],\n",
      "\n",
      "         [[ 3.7776e-02, -1.0905e-02, -2.3427e-02, -1.7052e-01,  1.4142e-01],\n",
      "          [ 4.0175e-02, -1.0923e-01, -1.3241e-02,  1.0746e-02,  2.0123e-01],\n",
      "          [ 2.4917e-02,  9.5488e-03,  9.1720e-02,  1.1472e-01, -8.9229e-02],\n",
      "          [ 1.5322e-02,  4.1469e-02, -7.2393e-02, -2.9184e-01, -5.1235e-01],\n",
      "          [ 1.0278e-01, -4.8441e-02, -2.0468e-01, -4.8584e-01, -5.3187e-01]],\n",
      "\n",
      "         [[-7.7983e-02, -4.3398e-03,  5.8265e-02,  2.0058e-01, -4.4157e-03],\n",
      "          [ 3.4273e-03,  1.4902e-02,  2.7746e-02,  1.2877e-01, -5.4712e-02],\n",
      "          [ 2.8971e-02,  6.6447e-02,  9.3362e-02,  4.9507e-03, -4.4735e-02],\n",
      "          [ 1.4506e-02, -3.3140e-02,  6.0192e-03,  1.7039e-02, -1.4378e-01],\n",
      "          [ 2.0649e-02,  9.8701e-02,  5.5688e-02, -1.7203e-01, -9.7617e-02]]],\n",
      "\n",
      "\n",
      "        [[[ 2.0830e-02, -9.1904e-02, -8.7925e-02,  4.2110e-03,  2.9299e-02],\n",
      "          [ 9.6128e-02,  7.0738e-03, -2.9912e-02,  3.0881e-02, -1.6704e-02],\n",
      "          [ 3.6979e-03, -4.9104e-02, -7.2449e-02,  2.3584e-04,  6.7872e-02],\n",
      "          [-2.1990e-02,  2.2564e-02,  2.2499e-02,  8.9763e-02, -1.7198e-01],\n",
      "          [ 1.6574e-02, -6.1893e-02, -6.9924e-02, -9.8625e-02, -1.0127e-01]],\n",
      "\n",
      "         [[-1.3131e-01, -8.6857e-02, -8.5190e-02, -1.3758e-01, -1.6320e-01],\n",
      "          [-2.0261e-01, -1.3206e-01, -1.9944e-01, -7.3761e-02, -1.9115e-01],\n",
      "          [-1.1333e-01, -1.6803e-01, -2.1832e-02, -1.1881e-01, -2.3543e-01],\n",
      "          [-1.1440e-01, -1.0979e-01, -2.8688e-01, -1.0982e-01, -1.9018e-01],\n",
      "          [-1.2935e-01, -2.8787e-01, -2.6934e-01, -1.3669e-01, -1.7295e-01]],\n",
      "\n",
      "         [[ 6.5356e-02, -1.2810e-01,  4.2930e-02,  5.6462e-02,  1.2436e-01],\n",
      "          [ 6.7897e-02,  9.9067e-03, -8.7571e-02,  1.6586e-01,  2.5425e-01],\n",
      "          [-2.1534e-02,  9.0669e-02, -1.0376e-01,  3.3800e-01,  1.3399e-01],\n",
      "          [-5.2998e-02,  1.2384e-01,  2.4256e-01,  2.8866e-01, -9.6343e-02],\n",
      "          [ 1.0433e-01,  1.1712e-01,  1.2266e-01,  2.2047e-01, -1.5085e-02]],\n",
      "\n",
      "         [[ 1.0232e-01,  5.5090e-02, -9.1498e-02, -5.3974e-02,  1.5972e-01],\n",
      "          [ 1.6881e-01,  8.8253e-03, -3.4404e-02, -2.0552e-02, -9.6966e-02],\n",
      "          [ 2.9361e-02, -9.7125e-02,  3.0101e-02,  3.4379e-03,  5.0368e-02],\n",
      "          [ 3.8056e-04, -1.6928e-02, -6.3840e-02, -7.5900e-02,  2.2621e-02],\n",
      "          [-6.8999e-03, -2.6618e-03,  7.9229e-02, -1.1316e-02,  1.1138e-01]],\n",
      "\n",
      "         [[ 1.1788e-01,  1.2888e-01,  2.5641e-03, -6.2241e-02,  1.5540e-02],\n",
      "          [ 1.2190e-02,  1.1956e-01,  4.0254e-02, -1.4160e-01,  5.7915e-02],\n",
      "          [ 9.2288e-03, -1.8045e-01,  8.6955e-03,  5.7707e-02, -1.3391e-01],\n",
      "          [-1.2106e-01, -9.1868e-02, -7.3878e-02,  7.2627e-02, -1.6331e-01],\n",
      "          [-8.1767e-03,  1.2276e-02,  7.8270e-03, -2.8940e-02, -2.4098e-01]],\n",
      "\n",
      "         [[ 8.4014e-02,  3.7600e-02,  2.6331e-02, -3.3541e-02,  5.2310e-02],\n",
      "          [ 2.8147e-02,  4.2712e-02, -1.1745e-02, -2.3711e-02, -8.2211e-02],\n",
      "          [-3.3099e-02, -3.7684e-02, -1.3643e-01, -3.2856e-02,  1.4696e-01],\n",
      "          [-3.1879e-03, -1.1010e-02,  4.1632e-02,  4.3034e-02, -2.1079e-03],\n",
      "          [ 2.6785e-02,  9.0751e-02,  1.5620e-01,  5.5326e-02,  8.9598e-02]]],\n",
      "\n",
      "\n",
      "        [[[-6.6918e-02, -5.4240e-02, -9.5285e-02,  2.1703e-02, -8.7003e-02],\n",
      "          [-8.4018e-02, -5.1076e-02,  6.6223e-02, -2.4820e-02, -9.6609e-02],\n",
      "          [ 4.4126e-04, -2.1605e-04, -5.2227e-02, -7.1338e-03, -7.8037e-03],\n",
      "          [-5.7061e-02, -9.7575e-02, -5.6937e-02, -6.0552e-02, -1.2479e-01],\n",
      "          [-1.1258e-01, -1.3360e-01, -8.7411e-02, -1.0393e-01, -1.5245e-02]],\n",
      "\n",
      "         [[-1.3352e-01, -1.0065e-01,  2.7898e-02,  3.5572e-02,  8.6768e-02],\n",
      "          [-9.7354e-02, -1.3126e-01, -1.6503e-01, -8.2366e-02, -8.0588e-03],\n",
      "          [-1.4764e-02, -1.1507e-01,  2.9785e-03, -1.3772e-01, -8.4326e-02],\n",
      "          [-7.1036e-03, -1.2176e-01, -5.8392e-02, -8.0057e-02, -1.0027e-01],\n",
      "          [-3.6382e-02, -1.4584e-01, -1.2115e-01,  8.9206e-03, -1.5915e-01]],\n",
      "\n",
      "         [[-9.8774e-02, -6.9108e-02, -4.0503e-02, -1.5704e-01, -1.4378e-01],\n",
      "          [-5.7904e-02, -2.6251e-02,  4.8600e-02, -2.5291e-02, -1.7656e-01],\n",
      "          [-1.0201e-01, -1.2009e-02, -2.7115e-02,  1.3724e-02, -7.3805e-02],\n",
      "          [-9.2229e-02,  2.4814e-02, -1.9920e-02,  2.1167e-02, -7.4004e-02],\n",
      "          [-2.2629e-02, -2.4417e-04, -2.3461e-02, -4.5925e-02, -7.7042e-02]],\n",
      "\n",
      "         [[-1.2757e-01, -5.2999e-02, -1.3343e-01, -1.3289e-01,  2.0197e-01],\n",
      "          [-6.5794e-02,  1.9334e-02, -1.1989e-01, -1.4403e-01,  1.1364e-01],\n",
      "          [-1.0451e-01, -6.9652e-02, -2.9604e-02, -1.9274e-01, -2.1931e-02],\n",
      "          [-5.3149e-02, -3.8824e-03, -7.5399e-02, -1.3556e-01,  9.5325e-02],\n",
      "          [-1.3579e-01, -1.2713e-01, -1.5829e-01,  1.0076e-01,  2.0580e-01]],\n",
      "\n",
      "         [[-7.9379e-02,  1.3405e-02,  6.3341e-02,  1.0384e-01, -3.8050e-02],\n",
      "          [-8.4038e-02, -8.3083e-02, -8.0811e-02,  1.7677e-02,  1.5642e-01],\n",
      "          [-1.0603e-01, -1.7116e-02, -7.7615e-02, -6.8249e-02, -1.3310e-01],\n",
      "          [-8.1422e-02, -3.6789e-04, -5.7795e-02, -1.1645e-01, -1.2558e-01],\n",
      "          [-1.6261e-01, -4.3286e-02, -3.5964e-02,  4.5977e-02, -1.4611e-02]],\n",
      "\n",
      "         [[ 4.4052e-03, -1.2669e-01, -3.2050e-02, -1.0895e-01, -1.1017e-01],\n",
      "          [-7.5061e-02,  1.1357e-02, -8.8865e-02, -1.3310e-01, -9.4476e-02],\n",
      "          [-8.9559e-04, -8.7104e-02, -7.0535e-02,  6.1806e-02, -1.2517e-01],\n",
      "          [-1.0779e-01, -2.1288e-02, -7.8349e-02, -1.0751e-01, -1.7529e-02],\n",
      "          [-8.4612e-02, -9.5150e-02,  3.2222e-02,  3.7151e-02, -9.2803e-02]]]],\n",
      "       requires_grad=True), Parameter containing:\n",
      "tensor([ 0.0390, -0.1284,  0.0484, -0.0143, -0.1123,  0.0087, -0.0675, -0.0700,\n",
      "         0.0198, -0.0799,  0.0058,  0.0105, -0.0130,  0.0275,  0.0619,  0.0394],\n",
      "       requires_grad=True), Parameter containing:\n",
      "tensor([[-2.4193e-02,  9.1483e-03,  4.1752e-03,  ..., -9.9453e-05,\n",
      "          5.9183e-04,  1.7234e-02],\n",
      "        [-1.3395e-02,  1.3074e-03, -1.7816e-02,  ...,  2.5470e-03,\n",
      "         -8.1208e-03, -6.1431e-03],\n",
      "        [ 4.9888e-03,  2.2374e-02,  1.4808e-02,  ...,  1.6523e-02,\n",
      "         -1.9687e-02, -7.7855e-03],\n",
      "        ...,\n",
      "        [ 1.1020e-02, -1.6262e-02, -7.8321e-03,  ..., -2.8121e-04,\n",
      "          6.0181e-03, -3.2166e-03],\n",
      "        [-4.7866e-03, -2.4814e-02, -1.3310e-02,  ...,  6.1168e-03,\n",
      "          1.7041e-02, -2.3265e-03],\n",
      "        [-1.0342e-02, -6.4087e-03,  3.1003e-02,  ..., -5.4168e-03,\n",
      "         -2.1684e-02,  2.3792e-04]], requires_grad=True), Parameter containing:\n",
      "tensor([-0.0108,  0.0013, -0.0097, -0.0257,  0.0012, -0.0270, -0.0008,  0.0052,\n",
      "        -0.0266, -0.0014, -0.0309, -0.0037, -0.0223, -0.0055, -0.0250,  0.0266,\n",
      "        -0.0140,  0.0158,  0.0193, -0.0191,  0.0235, -0.0109,  0.0305,  0.0161,\n",
      "         0.0011,  0.0256, -0.0168,  0.0039, -0.0040,  0.0051,  0.0018, -0.0131,\n",
      "         0.0180,  0.0161, -0.0274, -0.0209,  0.0109,  0.0012, -0.0243, -0.0090,\n",
      "         0.0101, -0.0236, -0.0357, -0.0066,  0.0302,  0.0556,  0.0039,  0.0053,\n",
      "         0.0164, -0.0012,  0.0010, -0.0354, -0.0103, -0.0153, -0.0155, -0.0210,\n",
      "         0.0110, -0.0163, -0.0113,  0.0266,  0.0148, -0.0596, -0.0296,  0.0046,\n",
      "        -0.0111,  0.0021,  0.0106,  0.0127, -0.0083,  0.0134,  0.0354, -0.0178,\n",
      "         0.0101, -0.0032,  0.0022, -0.0195,  0.0121,  0.0191,  0.0038, -0.0177,\n",
      "         0.0180,  0.0230, -0.0043,  0.0005, -0.0227,  0.0145,  0.0074,  0.0138,\n",
      "        -0.0079, -0.0363,  0.0248,  0.0260,  0.0082, -0.0076, -0.0079,  0.0246,\n",
      "        -0.0058, -0.0104,  0.0371, -0.0171,  0.0164, -0.0242,  0.0174,  0.0381,\n",
      "        -0.0165,  0.0190, -0.0094,  0.0112, -0.0012,  0.0186,  0.0109, -0.0230,\n",
      "        -0.0097,  0.0053,  0.0229,  0.0215,  0.0256,  0.0072,  0.0068, -0.0122],\n",
      "       requires_grad=True), Parameter containing:\n",
      "tensor([[ 0.0117, -0.0730, -0.0818,  ...,  0.0478,  0.1177, -0.0126],\n",
      "        [ 0.0334,  0.1176,  0.0506,  ..., -0.0627,  0.0021, -0.1487],\n",
      "        [ 0.0105, -0.0713,  0.0136,  ..., -0.0435, -0.0091, -0.0709],\n",
      "        ...,\n",
      "        [ 0.0448, -0.0805, -0.0342,  ...,  0.0028,  0.0991,  0.0688],\n",
      "        [-0.0203,  0.0646, -0.0532,  ..., -0.0898, -0.0672,  0.0598],\n",
      "        [ 0.0015,  0.1182,  0.0183,  ..., -0.0953,  0.1077,  0.0594]],\n",
      "       requires_grad=True), Parameter containing:\n",
      "tensor([-0.0833, -0.0300,  0.0548,  0.1027, -0.0312, -0.0248, -0.0942,  0.0330,\n",
      "        -0.0988,  0.0508,  0.0731, -0.0139, -0.0774, -0.0348, -0.0389,  0.0396,\n",
      "         0.0143, -0.0206,  0.2690,  0.0302, -0.0606, -0.0712,  0.0805,  0.1012,\n",
      "        -0.0903, -0.1643,  0.0225,  0.0916, -0.0948, -0.0491,  0.0173,  0.0018,\n",
      "        -0.0785,  0.1603,  0.0689,  0.0616, -0.0656, -0.0878,  0.0089, -0.0512,\n",
      "         0.0220,  0.1894, -0.0683,  0.0636,  0.0668,  0.0297,  0.0143, -0.0842,\n",
      "        -0.0784,  0.0824, -0.0077, -0.0711, -0.0368, -0.0203,  0.1262,  0.0026,\n",
      "         0.0140,  0.0422,  0.1632,  0.0068, -0.1011, -0.0402,  0.0628,  0.0346,\n",
      "         0.1248,  0.0846,  0.2919, -0.0632, -0.0208,  0.0750, -0.0705,  0.2878,\n",
      "         0.2668, -0.0315,  0.0616, -0.1180, -0.0059,  0.1202, -0.0838, -0.0434,\n",
      "        -0.0004, -0.0864,  0.0218, -0.0734], requires_grad=True), Parameter containing:\n",
      "tensor([[-0.0640, -0.0366, -0.0565,  ..., -0.0013, -0.0805,  0.1134],\n",
      "        [-0.0330, -0.0135,  0.0083,  ...,  0.0406,  0.1307,  0.0875],\n",
      "        [-0.0354, -0.1917, -0.0457,  ...,  0.0430,  0.0113, -0.1392],\n",
      "        ...,\n",
      "        [ 0.1184, -0.1440, -0.0263,  ..., -0.1145,  0.0171, -0.0774],\n",
      "        [ 0.0789, -0.0254,  0.0397,  ..., -0.0897,  0.0567,  0.0836],\n",
      "        [-0.0154,  0.0472, -0.0872,  ..., -0.0249,  0.0375, -0.0806]],\n",
      "       requires_grad=True), Parameter containing:\n",
      "tensor([ 0.5369,  0.0877,  0.7537,  0.3914,  0.4971,  0.5343,  0.2505,  0.3941,\n",
      "         0.6797,  0.5118, -0.2777,  0.0199, -0.1789, -0.1472, -0.1068,  0.0127,\n",
      "        -0.1688, -0.1172, -0.2668, -0.3141,  0.1410, -0.4439, -0.3059, -0.0719,\n",
      "        -0.1061, -0.4143, -0.2383, -0.4312, -0.3760, -0.0230, -0.3592, -0.1577,\n",
      "        -0.2021,  0.0684, -0.1261, -0.2979], requires_grad=True)]\n"
     ]
    }
   ],
   "source": [
    "print(list(net.parameters()))\n"
   ],
   "metadata": {
    "collapsed": false,
    "pycharm": {
     "name": "#%%\n"
    }
   }
  },
  {
   "cell_type": "code",
   "execution_count": 42,
   "outputs": [
    {
     "name": "stdout",
     "output_type": "stream",
     "text": [
      "tensor([[ 2.2210e+00, -1.8898e+00,  1.2158e+00,  7.7104e-01,  1.8488e-02,\n",
      "          2.3293e+00,  2.0164e+00,  3.0882e-01,  2.3192e+00,  6.3970e-01,\n",
      "          8.6366e-01,  1.8212e+00,  1.6404e+00,  1.4976e+00,  1.4821e+00,\n",
      "         -1.3483e+00,  3.8114e-01, -1.6205e+00, -1.8230e-01, -5.1070e-01,\n",
      "         -2.0723e-01,  3.1268e-02, -6.2616e-01, -1.5642e+00,  5.8338e-01,\n",
      "         -1.4573e+00,  1.1750e+00, -1.0089e+00,  9.8825e-01, -2.3029e+00,\n",
      "         -1.1903e+00, -1.6734e+00, -9.8605e-01, -3.0247e+00, -2.0338e+00,\n",
      "          9.0965e-01],\n",
      "        [ 5.5926e+00, -5.0547e+00,  2.8808e+00,  1.0422e+00, -2.7740e+00,\n",
      "          3.1502e+00,  1.6529e+00,  2.9559e-01,  5.6581e+00,  6.2952e-01,\n",
      "          2.9980e+00,  3.8708e+00,  4.3522e+00,  1.2347e+00,  3.2811e+00,\n",
      "          3.5854e-01,  3.6790e+00, -3.5118e+00,  1.4706e-01,  1.2288e-01,\n",
      "         -3.5386e+00, -2.9873e+00, -1.4840e+00, -5.1687e+00,  4.2583e+00,\n",
      "          1.6034e-01,  3.4237e+00,  3.5509e-01,  2.1000e+00, -2.7036e+00,\n",
      "         -1.2485e+00, -3.9316e+00, -3.5241e+00, -4.2914e+00, -4.8626e+00,\n",
      "          1.2348e+00],\n",
      "        [ 6.1399e+00, -3.3227e+00,  1.6655e+00,  2.9304e-01, -1.2110e+00,\n",
      "          2.9414e+00, -8.7220e-01,  1.2364e+00,  6.4258e+00,  9.3228e-01,\n",
      "          1.6249e+00,  1.5945e+00,  2.5301e+00,  1.3875e+00,  5.6435e-01,\n",
      "          7.5044e-02,  3.3384e+00, -1.9716e+00, -1.0705e+00,  1.8634e+00,\n",
      "         -4.8330e+00, -4.8449e+00, -8.0789e-01, -4.7080e+00,  4.4730e+00,\n",
      "          8.8151e-01,  2.3370e+00,  2.0458e-01,  7.2568e-01, -2.3187e+00,\n",
      "          1.0048e+00, -5.0675e-01, -1.1943e+00, -1.4892e+00, -2.4421e+00,\n",
      "         -9.2947e-01],\n",
      "        [ 1.7320e+00,  1.1286e+00, -1.0530e+00, -4.0301e+00,  2.6210e+00,\n",
      "         -1.9217e-01,  5.6886e-01,  3.9521e-02,  1.6664e+00,  2.1831e+00,\n",
      "          9.1640e-01, -1.1719e+00,  3.1666e-01, -1.8243e+00, -2.2426e+00,\n",
      "          1.1088e-02, -3.3051e-01,  2.4904e+00, -9.6009e-01, -2.6166e+00,\n",
      "          1.6078e+00,  6.7299e-02,  9.5257e-01,  1.4862e+00, -4.1189e-01,\n",
      "         -1.4380e-01,  8.5697e-01,  6.7532e-01, -2.1358e+00, -1.8665e-01,\n",
      "         -5.3557e-01,  1.2046e+00, -6.2445e-02,  4.8501e-01,  1.1151e+00,\n",
      "         -3.7771e+00],\n",
      "        [ 1.0184e+00,  2.5346e+00,  3.5427e+00,  2.7926e+00,  3.8212e+00,\n",
      "          3.6059e+00,  1.6746e+00,  1.0247e-01,  2.0161e+00,  2.0696e+00,\n",
      "         -3.0011e+00,  2.0777e+00, -1.6050e+00, -1.3622e+00, -8.3225e-01,\n",
      "         -3.3704e+00, -2.3526e+00,  8.2937e-01,  3.4481e+00,  1.1000e+00,\n",
      "          1.4951e+00, -2.1321e+00, -5.3511e+00,  1.4676e+00, -2.6329e+00,\n",
      "         -2.4800e+00, -3.3584e+00, -2.1922e+00, -2.5047e+00, -1.4201e-03,\n",
      "          2.5856e+00,  4.2366e+00, -2.8788e+00, -3.3585e-01, -3.1758e+00,\n",
      "         -2.6886e+00],\n",
      "        [-7.6485e-01, -1.3649e+00, -1.2419e-01,  6.7326e-01,  1.7388e+00,\n",
      "          1.2158e+00, -1.4825e+00,  3.0611e+00,  1.6075e-01,  2.9145e+00,\n",
      "         -3.7005e-03, -1.1926e+00, -1.2606e+00,  8.0690e-01, -1.7789e+00,\n",
      "          1.0957e+00,  1.7481e+00, -1.4016e-01, -1.8344e+00,  9.3570e-04,\n",
      "         -6.8489e-01, -1.1584e+00,  7.2498e-01, -6.1486e-01, -7.8354e-01,\n",
      "         -2.8531e-01, -1.6406e-01, -4.7020e-01, -4.1969e-01,  1.7204e+00,\n",
      "         -2.2556e+00, -1.3491e+00, -1.3847e+00,  9.3155e-01,  2.0815e+00,\n",
      "         -8.9573e-01],\n",
      "        [ 3.0667e+00,  1.2297e+00, -9.0492e-01, -1.7658e+00,  1.2101e+00,\n",
      "          1.6386e+00,  1.9685e+00, -8.8077e-01,  1.9962e+00,  5.3545e-01,\n",
      "          6.5192e-01,  7.5885e-01,  1.9536e+00,  6.3157e-01, -2.0743e+00,\n",
      "         -2.8956e+00, -6.3124e-01,  1.6006e+00,  1.4926e-01, -1.2525e+00,\n",
      "         -5.2922e-01,  4.2540e-01, -2.3604e+00, -9.1688e-01,  7.7608e-01,\n",
      "         -2.8760e+00,  8.1350e-01, -3.0984e+00, -1.1315e-01, -3.9528e+00,\n",
      "         -6.6292e-01,  1.5518e+00,  1.5281e-01, -2.9921e+00,  2.4673e-01,\n",
      "         -4.5120e-01],\n",
      "        [-3.6698e-01,  2.3527e+00,  8.5464e-01,  2.0227e+00,  2.5889e+00,\n",
      "          2.0941e+00, -8.6346e-03,  2.9228e+00, -7.5276e-03,  1.6850e+00,\n",
      "         -2.5914e+00, -1.9269e+00, -1.9348e+00,  5.9176e-01, -5.1425e+00,\n",
      "         -1.3887e+00, -3.7988e-01,  5.7692e-01,  8.7850e-02,  1.2077e+00,\n",
      "         -8.7941e-01,  1.9705e+00, -2.0748e+00,  1.7095e-01, -2.9748e+00,\n",
      "         -3.8591e+00, -2.2170e+00, -2.5936e+00, -1.0094e+00,  1.5593e+00,\n",
      "          4.7556e-01,  2.1342e+00,  1.7537e+00,  1.1255e+00,  2.5204e+00,\n",
      "         -1.8722e+00]])\n",
      "tensor([ 5,  8,  8,  4, 31,  7,  0,  7])\n",
      "tensor([[0., 0., 0., 0., 0., 0., 0., 0., 1., 0., 0., 0., 0., 0., 1., 0., 0., 0.,\n",
      "         0., 0., 0., 0., 0., 0., 0., 0., 0., 0., 0., 0., 0., 0., 0., 0., 0., 0.],\n",
      "        [1., 0., 0., 0., 0., 0., 0., 0., 0., 0., 0., 0., 1., 0., 0., 0., 0., 0.,\n",
      "         0., 0., 0., 0., 0., 0., 0., 0., 0., 0., 0., 0., 0., 0., 0., 0., 0., 0.],\n",
      "        [0., 0., 1., 0., 0., 0., 0., 0., 0., 0., 0., 0., 0., 0., 0., 0., 0., 0.,\n",
      "         0., 0., 0., 0., 0., 0., 0., 0., 1., 0., 0., 0., 0., 0., 0., 0., 0., 0.],\n",
      "        [0., 0., 0., 0., 0., 0., 0., 0., 1., 0., 0., 0., 0., 0., 0., 0., 0., 0.,\n",
      "         0., 0., 0., 0., 1., 0., 0., 0., 0., 0., 0., 0., 0., 0., 0., 0., 0., 0.],\n",
      "        [0., 0., 1., 0., 0., 0., 0., 0., 0., 0., 0., 0., 0., 0., 0., 0., 0., 0.,\n",
      "         0., 0., 0., 0., 0., 0., 0., 0., 0., 0., 0., 0., 0., 1., 0., 0., 0., 0.],\n",
      "        [0., 0., 0., 0., 0., 0., 0., 1., 0., 0., 0., 0., 0., 0., 0., 0., 0., 1.,\n",
      "         0., 0., 0., 0., 0., 0., 0., 0., 0., 0., 0., 0., 0., 0., 0., 0., 0., 0.],\n",
      "        [0., 0., 0., 0., 0., 0., 0., 0., 1., 0., 0., 0., 0., 0., 0., 0., 0., 0.,\n",
      "         0., 0., 0., 1., 0., 0., 0., 0., 0., 0., 0., 0., 0., 0., 0., 0., 0., 0.],\n",
      "        [0., 0., 0., 0., 0., 0., 0., 0., 1., 0., 0., 0., 0., 0., 0., 0., 0., 0.,\n",
      "         0., 0., 0., 0., 0., 0., 0., 0., 0., 0., 0., 0., 0., 0., 0., 0., 1., 0.]],\n",
      "       dtype=torch.float64)\n"
     ]
    }
   ],
   "source": [
    "testiter = iter(test_loader)\n",
    "images, labels = next(testiter)\n",
    "outputs = net(images.float())\n",
    "print(outputs.data)\n",
    "_, predicted = torch.max(outputs.data, 1)\n",
    "print(predicted)\n",
    "print(labels)"
   ],
   "metadata": {
    "collapsed": false,
    "pycharm": {
     "name": "#%%\n"
    }
   }
  },
  {
   "cell_type": "code",
   "execution_count": 11,
   "outputs": [],
   "source": [
    "# Let's see how the network performs on the whole test dataset\n",
    "\n",
    "correct = 0\n",
    "total = 0\n",
    "with torch.no_grad():\n",
    "    for data in test_loader:\n",
    "        images, labels = data\n",
    "        outputs = net(images.float())\n",
    "        # _, predicted = torch.topk(outputs, 2)\n",
    "        _, predicted = torch.max(outputs.data, 1)\n",
    "        total += len(labels)\n",
    "        correct += (predicted == labels).sum().item()\n"
   ],
   "metadata": {
    "collapsed": false,
    "pycharm": {
     "name": "#%%\n"
    }
   }
  },
  {
   "cell_type": "code",
   "execution_count": 12,
   "outputs": [
    {
     "name": "stdout",
     "output_type": "stream",
     "text": [
      "torch.Size([8, 260])\n",
      "torch.Size([8])\n",
      "5000\n",
      "1497\n",
      "Accuracy of the network on the 5000 test images: 29 %\n"
     ]
    }
   ],
   "source": [
    "print(outputs.shape)\n",
    "print(labels.shape)\n",
    "print(total)\n",
    "print(correct)\n",
    "\n",
    "print('Accuracy of the network on the 5000 test images: %d %%' % (\n",
    "    100 * correct / total))"
   ],
   "metadata": {
    "collapsed": false,
    "pycharm": {
     "name": "#%%\n"
    }
   }
  }
 ],
 "metadata": {
  "kernelspec": {
   "display_name": "Python 3",
   "language": "python",
   "name": "python3"
  },
  "language_info": {
   "codemirror_mode": {
    "name": "ipython",
    "version": 2
   },
   "file_extension": ".py",
   "mimetype": "text/x-python",
   "name": "python",
   "nbconvert_exporter": "python",
   "pygments_lexer": "ipython2",
   "version": "2.7.6"
  }
 },
 "nbformat": 4,
 "nbformat_minor": 0
}